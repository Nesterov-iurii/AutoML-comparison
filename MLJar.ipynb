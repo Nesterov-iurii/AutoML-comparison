{
 "cells": [
  {
   "cell_type": "markdown",
   "id": "42c487ed",
   "metadata": {},
   "source": [
    "# Zindi"
   ]
  },
  {
   "cell_type": "code",
   "execution_count": null,
   "id": "b57039cd",
   "metadata": {},
   "outputs": [],
   "source": [
    "from supervised import AutoML\n",
    "import pandas as pd\n",
    "import numpy as np\n",
    "import warnings\n",
    "from IPython.display import display\n",
    "\n",
    "warnings.filterwarnings(\"ignore\")\n",
    "pd.set_option('display.max_columns', 500)\n",
    "\n",
    "train_data = pd.read_csv('train_cleaned_nonBool.csv', low_memory=False)\n",
    "test_data = pd.read_csv('test_cleaned_nonBool.csv', low_memory=False)\n",
    "prophet_preds = pd.read_csv('prophet_prediction.csv', low_memory=False)\n",
    "train_data = train_data.merge(prophet_preds, on='date')\n",
    "test_data = test_data.merge(prophet_preds, on='date')\n",
    "\n",
    "automl = AutoML(mode=\"Compete\", total_time_limit=90*60, eval_metric='mae')\n",
    "automl.fit(train_data.drop(columns=['ID','device','date','pm2_5']), train_data['pm2_5'])\n",
    "\n",
    "preds = automl.predict(test_data.drop(columns=['ID','device','date']))\n",
    "preds = pd.DataFrame(preds).rename(columns={0:'pm2_5'})\n",
    "test_data = test_data.join(preds)\n",
    "test_data[['ID', 'pm2_5']].to_csv('zindi_mljar.csv', index=False)"
   ]
  },
  {
   "cell_type": "code",
   "execution_count": null,
   "id": "cbb03a79",
   "metadata": {},
   "outputs": [],
   "source": [
    "del train_data\n",
    "del test_data\n",
    "del automl"
   ]
  },
  {
   "cell_type": "markdown",
   "id": "91d3abaa",
   "metadata": {},
   "source": [
    "# Sber"
   ]
  },
  {
   "cell_type": "code",
   "execution_count": null,
   "id": "7248ca89",
   "metadata": {},
   "outputs": [],
   "source": [
    "from supervised import AutoML\n",
    "import pandas as pd\n",
    "import numpy as np\n",
    "import warnings\n",
    "from IPython.display import display\n",
    "\n",
    "warnings.filterwarnings(\"ignore\")\n",
    "pd.set_option('display.max_columns', 500)\n",
    "\n",
    "train_data = pd.read_csv('train_sber.csv', low_memory=False)\n",
    "test_data = pd.read_csv('test_sber.csv', low_memory=False)\n",
    "\n",
    "automl = AutoML(mode=\"Compete\", total_time_limit=90*60, eval_metric='rmse')\n",
    "automl.fit(train_data.drop(columns=['id','price_doc']), train_data['price_doc'])\n",
    "\n",
    "preds = automl.predict(test_data.drop(columns=['id']))\n",
    "preds = pd.DataFrame(preds).rename(columns={0:'price_doc'})\n",
    "test_data = test_data.join(preds)\n",
    "test_data[['id', 'price_doc']].to_csv('sber_mljar.csv', index=False)"
   ]
  },
  {
   "cell_type": "code",
   "execution_count": null,
   "id": "60a01f22",
   "metadata": {},
   "outputs": [],
   "source": [
    "del train_data\n",
    "del test_data\n",
    "del automl"
   ]
  },
  {
   "cell_type": "markdown",
   "id": "bb79e9a4",
   "metadata": {},
   "source": [
    "# Santander"
   ]
  },
  {
   "cell_type": "code",
   "execution_count": null,
   "id": "0d13b747",
   "metadata": {},
   "outputs": [],
   "source": [
    "from supervised import AutoML\n",
    "import pandas as pd\n",
    "import numpy as np\n",
    "import warnings\n",
    "from IPython.display import display\n",
    "\n",
    "warnings.filterwarnings(\"ignore\")\n",
    "pd.set_option('display.max_columns', 500)\n",
    "\n",
    "train_data = pd.read_csv('train_santander.csv', low_memory=False)\n",
    "test_data = pd.read_csv('test_santander.csv', low_memory=False)\n",
    "\n",
    "automl = AutoML(mode=\"Compete\", total_time_limit=90*60, eval_metric='auc')\n",
    "automl.fit(train_data.drop(columns=['ID','TARGET']), train_data['TARGET'])\n",
    "\n",
    "preds = automl.predict(test_data.drop(columns=['ID']))\n",
    "preds = pd.DataFrame(preds).rename(columns={0:'TARGET'})\n",
    "test_data = test_data.join(preds)\n",
    "test_data[['ID', 'TARGET']].to_csv('santander_mljar.csv', index=False)"
   ]
  },
  {
   "cell_type": "code",
   "execution_count": null,
   "id": "1083b85a",
   "metadata": {},
   "outputs": [],
   "source": [
    "del train_data\n",
    "del test_data\n",
    "del automl"
   ]
  },
  {
   "cell_type": "markdown",
   "id": "6ffe93bd",
   "metadata": {},
   "source": [
    "# Liberty"
   ]
  },
  {
   "cell_type": "code",
   "execution_count": null,
   "id": "c3727834",
   "metadata": {},
   "outputs": [],
   "source": [
    "from supervised import AutoML\n",
    "import pandas as pd\n",
    "import numpy as np\n",
    "import warnings\n",
    "from IPython.display import display\n",
    "\n",
    "warnings.filterwarnings(\"ignore\")\n",
    "pd.set_option('display.max_columns', 500)\n",
    "\n",
    "train_data = pd.read_csv('train_liberty.csv', low_memory=False)\n",
    "test_data = pd.read_csv('test_liberty.csv', low_memory=False)\n",
    "\n",
    "automl = AutoML(mode=\"Compete\", total_time_limit=90*60, eval_metric='rmse')\n",
    "automl.fit(train_data.drop(columns=['id','target']), train_data['target'])\n",
    "\n",
    "preds = automl.predict(test_data.drop(columns=['id']))\n",
    "preds = pd.DataFrame(preds).rename(columns={0:'target'})\n",
    "test_data = test_data.join(preds)\n",
    "test_data[['id', 'target']].to_csv('liberty_mljar.csv', index=False)"
   ]
  },
  {
   "cell_type": "code",
   "execution_count": null,
   "id": "2b8e0213",
   "metadata": {},
   "outputs": [],
   "source": [
    "del train_data\n",
    "del test_data\n",
    "del automl"
   ]
  },
  {
   "cell_type": "markdown",
   "id": "906dc08c",
   "metadata": {},
   "source": [
    "# Loan"
   ]
  },
  {
   "cell_type": "code",
   "execution_count": null,
   "id": "a473ef27",
   "metadata": {},
   "outputs": [],
   "source": [
    "from supervised import AutoML\n",
    "import pandas as pd\n",
    "import numpy as np\n",
    "import warnings\n",
    "from IPython.display import display\n",
    "\n",
    "warnings.filterwarnings(\"ignore\")\n",
    "pd.set_option('display.max_columns', 500)\n",
    "\n",
    "train_data = pd.read_csv('train_loan.csv', low_memory=False)\n",
    "train_data = train_data.replace('NA', np.nan)\n",
    "test_data = pd.read_csv('test_loan.csv', low_memory=False)\n",
    "test_data = test_data.replace('NA', np.nan)\n",
    "\n",
    "\n",
    "automl = AutoML(mode=\"Compete\", total_time_limit=90*60, eval_metric='mae')\n",
    "automl.fit(train_data.drop(columns=['id','loss']), train_data['loss'])\n",
    "\n",
    "preds = automl.predict(test_data.drop(columns=['id']))\n",
    "preds = pd.DataFrame(preds).rename(columns={0:'loss'})\n",
    "test_data = test_data.join(preds)\n",
    "test_data[['id', 'loss']].to_csv('loan_mljar.csv', index=False)"
   ]
  },
  {
   "cell_type": "code",
   "execution_count": null,
   "id": "2635e4d3",
   "metadata": {},
   "outputs": [],
   "source": [
    "del train_data\n",
    "del test_data\n",
    "del automl"
   ]
  },
  {
   "cell_type": "code",
   "execution_count": null,
   "id": "90f946b2",
   "metadata": {},
   "outputs": [],
   "source": []
  },
  {
   "cell_type": "code",
   "execution_count": null,
   "id": "0ab085af",
   "metadata": {},
   "outputs": [],
   "source": []
  },
  {
   "cell_type": "code",
   "execution_count": 2,
   "id": "6d7bf1a8",
   "metadata": {},
   "outputs": [
    {
     "name": "stdout",
     "output_type": "stream",
     "text": [
      "Linear algorithm was disabled.\n",
      "AutoML directory: AutoML_2\n",
      "The task is regression with evaluation metric rmse\n",
      "AutoML will use algorithms: ['Decision Tree', 'Random Forest', 'Extra Trees', 'LightGBM', 'Xgboost', 'CatBoost', 'Neural Network', 'Nearest Neighbors']\n",
      "AutoML will stack models\n",
      "AutoML will ensemble available models\n",
      "AutoML steps: ['adjust_validation', 'simple_algorithms', 'default_algorithms', 'not_so_random', 'mix_encoding', 'golden_features', 'kmeans_features', 'insert_random_feature', 'features_selection', 'hill_climbing_1', 'hill_climbing_2', 'boost_on_errors', 'ensemble', 'stack', 'ensemble_stacked']\n",
      "* Step adjust_validation will try to check up to 1 model\n",
      "1_DecisionTree rmse 27930133.726226 trained in 5.58 seconds\n",
      "Disable stacking for split validation\n",
      "* Step simple_algorithms will try to check up to 2 models\n",
      "2_DecisionTree rmse 27411600.478282 trained in 5.54 seconds\n",
      "3_DecisionTree rmse 27411600.478282 trained in 5.9 seconds\n",
      "* Step default_algorithms will try to check up to 7 models\n",
      "4_Default_LightGBM rmse 26111478.200595 trained in 6.07 seconds\n",
      "5_Default_Xgboost rmse 26750612.193742 trained in 5.96 seconds\n",
      "6_Default_CatBoost rmse 25880601.487019 trained in 26.04 seconds\n",
      "7_Default_NeuralNetwork rmse 27491425.63997 trained in 7.99 seconds\n",
      "8_Default_RandomForest rmse 26994356.60251 trained in 9.23 seconds\n",
      "9_Default_ExtraTrees rmse 27397178.856377 trained in 8.81 seconds\n",
      "* Step not_so_random will try to check up to 63 models\n",
      "19_LightGBM rmse 25762888.359619 trained in 6.03 seconds\n",
      "10_Xgboost rmse 25919996.846972 trained in 6.41 seconds\n",
      "28_CatBoost rmse 25834707.377758 trained in 85.17 seconds\n",
      "* Step mix_encoding will try to check up to 1 model\n",
      "10_Xgboost_categorical_mix rmse 26380423.019124 trained in 8.24 seconds\n",
      "* Step golden_features will try to check up to 3 models\n",
      "None 10\n",
      "Add Golden Feature: ¿Cómo calificás las políticas de diversidad e inclusión?_multiply_¿La recomendás como un buen lugar para trabajar?\n",
      "Add Golden Feature: ¿Cómo calificás las políticas de diversidad e inclusión?_multiply_Años en la empresa actual\n",
      "Add Golden Feature: Años en la empresa actual_ratio_¿Cómo calificás las políticas de diversidad e inclusión?\n",
      "Add Golden Feature: ¿Cómo calificás las políticas de diversidad e inclusión?_ratio_Años en la empresa actual\n",
      "Add Golden Feature: Años en la empresa actual_ratio_¿La recomendás como un buen lugar para trabajar?\n",
      "Add Golden Feature: ¿Cómo calificás las políticas de diversidad e inclusión?_sum_¿La recomendás como un buen lugar para trabajar?\n",
      "Add Golden Feature: ¿La recomendás como un buen lugar para trabajar?_ratio_Años en la empresa actual\n",
      "Add Golden Feature: ¿La recomendás como un buen lugar para trabajar?_multiply_Años en la empresa actual\n",
      "Add Golden Feature: ¿Tenés hijos/as menores de edad?_sum_¿La recomendás como un buen lugar para trabajar?\n",
      "Add Golden Feature: ¿Qué tanto sentís que te está apoyando tu empresa/organización en esta situación?_multiply_Años en la empresa actual\n",
      "Created 10 Golden Features in 0.38 seconds.\n",
      "19_LightGBM_GoldenFeatures rmse 25883824.711254 trained in 8.43 seconds\n",
      "* Step kmeans_features will try to check up to 3 models\n",
      "19_LightGBM_KMeansFeatures rmse 26033536.748813 trained in 7.39 seconds\n",
      "6_Default_CatBoost_KMeansFeatures rmse 26183295.971478 trained in 19.76 seconds\n",
      "Not enough time to perform features selection. Skip\n",
      "Time needed for features selection ~ 73.0 seconds\n",
      "Please increase total_time_limit to at least (794 seconds) to have features selection\n",
      "Skip insert_random_feature because no parameters were generated.\n",
      "Skip features_selection because no parameters were generated.\n",
      "* Step hill_climbing_1 will try to check up to 21 models\n",
      "29_LightGBM rmse 25821984.608597 trained in 6.75 seconds\n",
      "30_CatBoost rmse 26382701.696365 trained in 79.08 seconds\n",
      "Skip hill_climbing_2 because of the time limit.\n",
      "* Step ensemble will try to check up to 1 model\n",
      "Ensemble rmse 25433316.040622 trained in 0.86 seconds\n",
      "AutoML fit time: 328.54 seconds\n",
      "AutoML best model: Ensemble\n"
     ]
    },
    {
     "ename": "TypeError",
     "evalue": "ufunc 'isnan' not supported for the input types, and the inputs could not be safely coerced to any supported types according to the casting rule ''safe''",
     "output_type": "error",
     "traceback": [
      "\u001b[1;31m---------------------------------------------------------------------------\u001b[0m",
      "\u001b[1;31mTypeError\u001b[0m                                 Traceback (most recent call last)",
      "Cell \u001b[1;32mIn [2], line 19\u001b[0m\n\u001b[0;32m     16\u001b[0m automl \u001b[38;5;241m=\u001b[39m AutoML(mode\u001b[38;5;241m=\u001b[39m\u001b[38;5;124m\"\u001b[39m\u001b[38;5;124mCompete\u001b[39m\u001b[38;5;124m\"\u001b[39m, total_time_limit\u001b[38;5;241m=\u001b[39m\u001b[38;5;241m5\u001b[39m\u001b[38;5;241m*\u001b[39m\u001b[38;5;241m60\u001b[39m, eval_metric\u001b[38;5;241m=\u001b[39m\u001b[38;5;124m'\u001b[39m\u001b[38;5;124mrmse\u001b[39m\u001b[38;5;124m'\u001b[39m)\n\u001b[0;32m     17\u001b[0m automl\u001b[38;5;241m.\u001b[39mfit(train_data\u001b[38;5;241m.\u001b[39mdrop(columns\u001b[38;5;241m=\u001b[39m[\u001b[38;5;124m'\u001b[39m\u001b[38;5;124mSalario mensual (en tu moneda local)\u001b[39m\u001b[38;5;124m'\u001b[39m, \u001b[38;5;124m'\u001b[39m\u001b[38;5;124mValor dólar informal semestral\u001b[39m\u001b[38;5;124m'\u001b[39m, \u001b[38;5;124m'\u001b[39m\u001b[38;5;124midentificador\u001b[39m\u001b[38;5;124m'\u001b[39m, \u001b[38;5;124m'\u001b[39m\u001b[38;5;124mAño\u001b[39m\u001b[38;5;124m'\u001b[39m, \u001b[38;5;124m'\u001b[39m\u001b[38;5;124mSemestre\u001b[39m\u001b[38;5;124m'\u001b[39m, \u001b[38;5;124m'\u001b[39m\u001b[38;5;124mtarget\u001b[39m\u001b[38;5;124m'\u001b[39m]), train_data[\u001b[38;5;124m'\u001b[39m\u001b[38;5;124mtarget\u001b[39m\u001b[38;5;124m'\u001b[39m])\n\u001b[1;32m---> 19\u001b[0m preds \u001b[38;5;241m=\u001b[39m automl\u001b[38;5;241m.\u001b[39mpredict(test_data\u001b[38;5;241m.\u001b[39mdrop(columns\u001b[38;5;241m=\u001b[39m[\u001b[38;5;124m'\u001b[39m\u001b[38;5;124mValor dólar informal semestral\u001b[39m\u001b[38;5;124m'\u001b[39m, \u001b[38;5;124m'\u001b[39m\u001b[38;5;124midentificador\u001b[39m\u001b[38;5;124m'\u001b[39m, \u001b[38;5;124m'\u001b[39m\u001b[38;5;124mAño\u001b[39m\u001b[38;5;124m'\u001b[39m, \u001b[38;5;124m'\u001b[39m\u001b[38;5;124mSemestre\u001b[39m\u001b[38;5;124m'\u001b[39m]))\n\u001b[0;32m     20\u001b[0m preds \u001b[38;5;241m=\u001b[39m pd\u001b[38;5;241m.\u001b[39mDataFrame(preds)\u001b[38;5;241m.\u001b[39mrename(columns\u001b[38;5;241m=\u001b[39m{\u001b[38;5;241m0\u001b[39m:\u001b[38;5;124m'\u001b[39m\u001b[38;5;124mtarget\u001b[39m\u001b[38;5;124m'\u001b[39m})\n\u001b[0;32m     21\u001b[0m test_data \u001b[38;5;241m=\u001b[39m test_data\u001b[38;5;241m.\u001b[39mjoin(preds)\n",
      "File \u001b[1;32mD:\\Anaconda\\envs\\mljar\\lib\\site-packages\\supervised\\automl.py:387\u001b[0m, in \u001b[0;36mAutoML.predict\u001b[1;34m(self, X)\u001b[0m\n\u001b[0;32m    370\u001b[0m \u001b[38;5;28;01mdef\u001b[39;00m \u001b[38;5;21mpredict\u001b[39m(\u001b[38;5;28mself\u001b[39m, X: Union[List, numpy\u001b[38;5;241m.\u001b[39mndarray, pandas\u001b[38;5;241m.\u001b[39mDataFrame]) \u001b[38;5;241m-\u001b[39m\u001b[38;5;241m>\u001b[39m numpy\u001b[38;5;241m.\u001b[39mndarray:\n\u001b[0;32m    371\u001b[0m     \u001b[38;5;124;03m\"\"\"\u001b[39;00m\n\u001b[0;32m    372\u001b[0m \u001b[38;5;124;03m    Computes predictions from AutoML best model.\u001b[39;00m\n\u001b[0;32m    373\u001b[0m \n\u001b[1;32m   (...)\u001b[0m\n\u001b[0;32m    385\u001b[0m \u001b[38;5;124;03m        AutoMLException: Model has not yet been fitted.\u001b[39;00m\n\u001b[0;32m    386\u001b[0m \u001b[38;5;124;03m    \"\"\"\u001b[39;00m\n\u001b[1;32m--> 387\u001b[0m     \u001b[38;5;28;01mreturn\u001b[39;00m \u001b[38;5;28;43mself\u001b[39;49m\u001b[38;5;241;43m.\u001b[39;49m\u001b[43m_predict\u001b[49m\u001b[43m(\u001b[49m\u001b[43mX\u001b[49m\u001b[43m)\u001b[49m\n",
      "File \u001b[1;32mD:\\Anaconda\\envs\\mljar\\lib\\site-packages\\supervised\\base_automl.py:1361\u001b[0m, in \u001b[0;36mBaseAutoML._predict\u001b[1;34m(self, X)\u001b[0m\n\u001b[0;32m   1359\u001b[0m \u001b[38;5;28;01mdef\u001b[39;00m \u001b[38;5;21m_predict\u001b[39m(\u001b[38;5;28mself\u001b[39m, X):\n\u001b[1;32m-> 1361\u001b[0m     predictions \u001b[38;5;241m=\u001b[39m \u001b[38;5;28;43mself\u001b[39;49m\u001b[38;5;241;43m.\u001b[39;49m\u001b[43m_base_predict\u001b[49m\u001b[43m(\u001b[49m\u001b[43mX\u001b[49m\u001b[43m)\u001b[49m\n\u001b[0;32m   1362\u001b[0m     \u001b[38;5;66;03m# Return predictions\u001b[39;00m\n\u001b[0;32m   1363\u001b[0m     \u001b[38;5;66;03m# If classification task the result is in column 'label'\u001b[39;00m\n\u001b[0;32m   1364\u001b[0m     \u001b[38;5;66;03m# If regression task the result is in column 'prediction'\u001b[39;00m\n\u001b[0;32m   1365\u001b[0m     \u001b[38;5;28;01mreturn\u001b[39;00m (\n\u001b[0;32m   1366\u001b[0m         predictions[\u001b[38;5;124m\"\u001b[39m\u001b[38;5;124mlabel\u001b[39m\u001b[38;5;124m\"\u001b[39m]\u001b[38;5;241m.\u001b[39mto_numpy()\n\u001b[0;32m   1367\u001b[0m         \u001b[38;5;28;01mif\u001b[39;00m \u001b[38;5;28mself\u001b[39m\u001b[38;5;241m.\u001b[39m_ml_task \u001b[38;5;241m!=\u001b[39m REGRESSION\n\u001b[0;32m   1368\u001b[0m         \u001b[38;5;28;01melse\u001b[39;00m predictions[\u001b[38;5;124m\"\u001b[39m\u001b[38;5;124mprediction\u001b[39m\u001b[38;5;124m\"\u001b[39m]\u001b[38;5;241m.\u001b[39mto_numpy()\n\u001b[0;32m   1369\u001b[0m     )\n",
      "File \u001b[1;32mD:\\Anaconda\\envs\\mljar\\lib\\site-packages\\supervised\\base_automl.py:1326\u001b[0m, in \u001b[0;36mBaseAutoML._base_predict\u001b[1;34m(self, X, model)\u001b[0m\n\u001b[0;32m   1324\u001b[0m         predictions \u001b[38;5;241m=\u001b[39m model\u001b[38;5;241m.\u001b[39mpredict(X_stacked)\n\u001b[0;32m   1325\u001b[0m \u001b[38;5;28;01melse\u001b[39;00m:\n\u001b[1;32m-> 1326\u001b[0m     predictions \u001b[38;5;241m=\u001b[39m \u001b[43mmodel\u001b[49m\u001b[38;5;241;43m.\u001b[39;49m\u001b[43mpredict\u001b[49m\u001b[43m(\u001b[49m\u001b[43mX\u001b[49m\u001b[43m)\u001b[49m\n\u001b[0;32m   1328\u001b[0m \u001b[38;5;28;01mif\u001b[39;00m \u001b[38;5;28mself\u001b[39m\u001b[38;5;241m.\u001b[39m_ml_task \u001b[38;5;241m==\u001b[39m BINARY_CLASSIFICATION:\n\u001b[0;32m   1329\u001b[0m     \u001b[38;5;66;03m# need to predict the label based on predictions and threshold\u001b[39;00m\n\u001b[0;32m   1330\u001b[0m     neg_label, pos_label \u001b[38;5;241m=\u001b[39m (\n\u001b[0;32m   1331\u001b[0m         predictions\u001b[38;5;241m.\u001b[39mcolumns[\u001b[38;5;241m0\u001b[39m][\u001b[38;5;241m11\u001b[39m:],\n\u001b[0;32m   1332\u001b[0m         predictions\u001b[38;5;241m.\u001b[39mcolumns[\u001b[38;5;241m1\u001b[39m][\u001b[38;5;241m11\u001b[39m:],\n\u001b[0;32m   1333\u001b[0m     )\n",
      "File \u001b[1;32mD:\\Anaconda\\envs\\mljar\\lib\\site-packages\\supervised\\ensemble.py:308\u001b[0m, in \u001b[0;36mEnsemble.predict\u001b[1;34m(self, X, X_stacked)\u001b[0m\n\u001b[0;32m    306\u001b[0m     y_predicted_from_model \u001b[38;5;241m=\u001b[39m model\u001b[38;5;241m.\u001b[39mpredict(X_stacked)\n\u001b[0;32m    307\u001b[0m \u001b[38;5;28;01melse\u001b[39;00m:\n\u001b[1;32m--> 308\u001b[0m     y_predicted_from_model \u001b[38;5;241m=\u001b[39m \u001b[43mmodel\u001b[49m\u001b[38;5;241;43m.\u001b[39;49m\u001b[43mpredict\u001b[49m\u001b[43m(\u001b[49m\u001b[43mX\u001b[49m\u001b[43m)\u001b[49m\n\u001b[0;32m    310\u001b[0m prediction_cols \u001b[38;5;241m=\u001b[39m []\n\u001b[0;32m    311\u001b[0m \u001b[38;5;28;01mif\u001b[39;00m \u001b[38;5;28mself\u001b[39m\u001b[38;5;241m.\u001b[39m_ml_task \u001b[38;5;129;01min\u001b[39;00m [BINARY_CLASSIFICATION, MULTICLASS_CLASSIFICATION]:\n",
      "File \u001b[1;32mD:\\Anaconda\\envs\\mljar\\lib\\site-packages\\supervised\\model_framework.py:428\u001b[0m, in \u001b[0;36mModelFramework.predict\u001b[1;34m(self, X)\u001b[0m\n\u001b[0;32m    425\u001b[0m y_predicted \u001b[38;5;241m=\u001b[39m \u001b[38;5;28;01mNone\u001b[39;00m  \u001b[38;5;66;03m# np.zeros((X.shape[0],))\u001b[39;00m\n\u001b[0;32m    426\u001b[0m \u001b[38;5;28;01mfor\u001b[39;00m ind, learner \u001b[38;5;129;01min\u001b[39;00m \u001b[38;5;28menumerate\u001b[39m(\u001b[38;5;28mself\u001b[39m\u001b[38;5;241m.\u001b[39mlearners):\n\u001b[0;32m    427\u001b[0m     \u001b[38;5;66;03m# preprocessing goes here\u001b[39;00m\n\u001b[1;32m--> 428\u001b[0m     X_data, _, _ \u001b[38;5;241m=\u001b[39m \u001b[38;5;28;43mself\u001b[39;49m\u001b[38;5;241;43m.\u001b[39;49m\u001b[43mpreprocessings\u001b[49m\u001b[43m[\u001b[49m\u001b[43mind\u001b[49m\u001b[43m]\u001b[49m\u001b[38;5;241;43m.\u001b[39;49m\u001b[43mtransform\u001b[49m\u001b[43m(\u001b[49m\u001b[43mX\u001b[49m\u001b[38;5;241;43m.\u001b[39;49m\u001b[43mcopy\u001b[49m\u001b[43m(\u001b[49m\u001b[43m)\u001b[49m\u001b[43m,\u001b[49m\u001b[43m \u001b[49m\u001b[38;5;28;43;01mNone\u001b[39;49;00m\u001b[43m)\u001b[49m\n\u001b[0;32m    429\u001b[0m     y_p \u001b[38;5;241m=\u001b[39m learner\u001b[38;5;241m.\u001b[39mpredict(X_data)\n\u001b[0;32m    430\u001b[0m     y_p \u001b[38;5;241m=\u001b[39m \u001b[38;5;28mself\u001b[39m\u001b[38;5;241m.\u001b[39mpreprocessings[ind]\u001b[38;5;241m.\u001b[39minverse_scale_target(y_p)\n",
      "File \u001b[1;32mD:\\Anaconda\\envs\\mljar\\lib\\site-packages\\supervised\\preprocessing\\preprocessing.py:403\u001b[0m, in \u001b[0;36mPreprocessing.transform\u001b[1;34m(self, X_validation, y_validation, sample_weight_validation)\u001b[0m\n\u001b[0;32m    401\u001b[0m \u001b[38;5;28;01mfor\u001b[39;00m convert \u001b[38;5;129;01min\u001b[39;00m \u001b[38;5;28mself\u001b[39m\u001b[38;5;241m.\u001b[39m_categorical:\n\u001b[0;32m    402\u001b[0m     \u001b[38;5;28;01mif\u001b[39;00m X_validation \u001b[38;5;129;01mis\u001b[39;00m \u001b[38;5;129;01mnot\u001b[39;00m \u001b[38;5;28;01mNone\u001b[39;00m \u001b[38;5;129;01mand\u001b[39;00m convert \u001b[38;5;129;01mis\u001b[39;00m \u001b[38;5;129;01mnot\u001b[39;00m \u001b[38;5;28;01mNone\u001b[39;00m:\n\u001b[1;32m--> 403\u001b[0m         X_validation \u001b[38;5;241m=\u001b[39m \u001b[43mconvert\u001b[49m\u001b[38;5;241;43m.\u001b[39;49m\u001b[43mtransform\u001b[49m\u001b[43m(\u001b[49m\u001b[43mX_validation\u001b[49m\u001b[43m)\u001b[49m\n\u001b[0;32m    405\u001b[0m \u001b[38;5;28;01mfor\u001b[39;00m dtt \u001b[38;5;129;01min\u001b[39;00m \u001b[38;5;28mself\u001b[39m\u001b[38;5;241m.\u001b[39m_datetime_transforms:\n\u001b[0;32m    406\u001b[0m     \u001b[38;5;28;01mif\u001b[39;00m X_validation \u001b[38;5;129;01mis\u001b[39;00m \u001b[38;5;129;01mnot\u001b[39;00m \u001b[38;5;28;01mNone\u001b[39;00m \u001b[38;5;129;01mand\u001b[39;00m dtt \u001b[38;5;129;01mis\u001b[39;00m \u001b[38;5;129;01mnot\u001b[39;00m \u001b[38;5;28;01mNone\u001b[39;00m:\n",
      "File \u001b[1;32mD:\\Anaconda\\envs\\mljar\\lib\\site-packages\\supervised\\preprocessing\\preprocessing_categorical.py:79\u001b[0m, in \u001b[0;36mPreprocessingCategorical.transform\u001b[1;34m(self, X)\u001b[0m\n\u001b[0;32m     77\u001b[0m         lbl \u001b[38;5;241m=\u001b[39m LabelEncoder()\n\u001b[0;32m     78\u001b[0m         lbl\u001b[38;5;241m.\u001b[39mfrom_json(lbl_params)\n\u001b[1;32m---> 79\u001b[0m         X\u001b[38;5;241m.\u001b[39mloc[:, column] \u001b[38;5;241m=\u001b[39m \u001b[43mlbl\u001b[49m\u001b[38;5;241;43m.\u001b[39;49m\u001b[43mtransform\u001b[49m\u001b[43m(\u001b[49m\u001b[43mX\u001b[49m\u001b[38;5;241;43m.\u001b[39;49m\u001b[43mloc\u001b[49m\u001b[43m[\u001b[49m\u001b[43m:\u001b[49m\u001b[43m,\u001b[49m\u001b[43m \u001b[49m\u001b[43mcolumn\u001b[49m\u001b[43m]\u001b[49m\u001b[43m)\u001b[49m\n\u001b[0;32m     81\u001b[0m \u001b[38;5;28;01mreturn\u001b[39;00m X\n",
      "File \u001b[1;32mD:\\Anaconda\\envs\\mljar\\lib\\site-packages\\supervised\\preprocessing\\label_encoder.py:33\u001b[0m, in \u001b[0;36mLabelEncoder.transform\u001b[1;34m(self, x)\u001b[0m\n\u001b[0;32m     31\u001b[0m \u001b[38;5;28;01mdef\u001b[39;00m \u001b[38;5;21mtransform\u001b[39m(\u001b[38;5;28mself\u001b[39m, x):\n\u001b[0;32m     32\u001b[0m     \u001b[38;5;28;01mtry\u001b[39;00m:\n\u001b[1;32m---> 33\u001b[0m         \u001b[38;5;28;01mreturn\u001b[39;00m \u001b[38;5;28;43mself\u001b[39;49m\u001b[38;5;241;43m.\u001b[39;49m\u001b[43mlbl\u001b[49m\u001b[38;5;241;43m.\u001b[39;49m\u001b[43mtransform\u001b[49m\u001b[43m(\u001b[49m\u001b[43mx\u001b[49m\u001b[43m)\u001b[49m  \u001b[38;5;66;03m# list(x.values))\u001b[39;00m\n\u001b[0;32m     34\u001b[0m     \u001b[38;5;28;01mexcept\u001b[39;00m \u001b[38;5;167;01mValueError\u001b[39;00m \u001b[38;5;28;01mas\u001b[39;00m ve:\n\u001b[0;32m     35\u001b[0m         \u001b[38;5;66;03m# rescue\u001b[39;00m\n\u001b[0;32m     36\u001b[0m         classes \u001b[38;5;241m=\u001b[39m np\u001b[38;5;241m.\u001b[39munique(x)  \u001b[38;5;66;03m# list(x.values))\u001b[39;00m\n",
      "File \u001b[1;32m~\\AppData\\Roaming\\Python\\Python310\\site-packages\\sklearn\\preprocessing\\_label.py:138\u001b[0m, in \u001b[0;36mLabelEncoder.transform\u001b[1;34m(self, y)\u001b[0m\n\u001b[0;32m    135\u001b[0m \u001b[38;5;28;01mif\u001b[39;00m _num_samples(y) \u001b[38;5;241m==\u001b[39m \u001b[38;5;241m0\u001b[39m:\n\u001b[0;32m    136\u001b[0m     \u001b[38;5;28;01mreturn\u001b[39;00m np\u001b[38;5;241m.\u001b[39marray([])\n\u001b[1;32m--> 138\u001b[0m \u001b[38;5;28;01mreturn\u001b[39;00m \u001b[43m_encode\u001b[49m\u001b[43m(\u001b[49m\u001b[43my\u001b[49m\u001b[43m,\u001b[49m\u001b[43m \u001b[49m\u001b[43muniques\u001b[49m\u001b[38;5;241;43m=\u001b[39;49m\u001b[38;5;28;43mself\u001b[39;49m\u001b[38;5;241;43m.\u001b[39;49m\u001b[43mclasses_\u001b[49m\u001b[43m)\u001b[49m\n",
      "File \u001b[1;32m~\\AppData\\Roaming\\Python\\Python310\\site-packages\\sklearn\\utils\\_encode.py:229\u001b[0m, in \u001b[0;36m_encode\u001b[1;34m(values, uniques, check_unknown)\u001b[0m\n\u001b[0;32m    227\u001b[0m \u001b[38;5;28;01melse\u001b[39;00m:\n\u001b[0;32m    228\u001b[0m     \u001b[38;5;28;01mif\u001b[39;00m check_unknown:\n\u001b[1;32m--> 229\u001b[0m         diff \u001b[38;5;241m=\u001b[39m \u001b[43m_check_unknown\u001b[49m\u001b[43m(\u001b[49m\u001b[43mvalues\u001b[49m\u001b[43m,\u001b[49m\u001b[43m \u001b[49m\u001b[43muniques\u001b[49m\u001b[43m)\u001b[49m\n\u001b[0;32m    230\u001b[0m         \u001b[38;5;28;01mif\u001b[39;00m diff:\n\u001b[0;32m    231\u001b[0m             \u001b[38;5;28;01mraise\u001b[39;00m \u001b[38;5;167;01mValueError\u001b[39;00m(\u001b[38;5;124mf\u001b[39m\u001b[38;5;124m\"\u001b[39m\u001b[38;5;124my contains previously unseen labels: \u001b[39m\u001b[38;5;132;01m{\u001b[39;00m\u001b[38;5;28mstr\u001b[39m(diff)\u001b[38;5;132;01m}\u001b[39;00m\u001b[38;5;124m\"\u001b[39m)\n",
      "File \u001b[1;32m~\\AppData\\Roaming\\Python\\Python310\\site-packages\\sklearn\\utils\\_encode.py:303\u001b[0m, in \u001b[0;36m_check_unknown\u001b[1;34m(values, known_values, return_mask)\u001b[0m\n\u001b[0;32m    300\u001b[0m         valid_mask \u001b[38;5;241m=\u001b[39m np\u001b[38;5;241m.\u001b[39mones(\u001b[38;5;28mlen\u001b[39m(values), dtype\u001b[38;5;241m=\u001b[39m\u001b[38;5;28mbool\u001b[39m)\n\u001b[0;32m    302\u001b[0m \u001b[38;5;66;03m# check for nans in the known_values\u001b[39;00m\n\u001b[1;32m--> 303\u001b[0m \u001b[38;5;28;01mif\u001b[39;00m \u001b[43mnp\u001b[49m\u001b[38;5;241;43m.\u001b[39;49m\u001b[43misnan\u001b[49m\u001b[43m(\u001b[49m\u001b[43mknown_values\u001b[49m\u001b[43m)\u001b[49m\u001b[38;5;241m.\u001b[39many():\n\u001b[0;32m    304\u001b[0m     diff_is_nan \u001b[38;5;241m=\u001b[39m np\u001b[38;5;241m.\u001b[39misnan(diff)\n\u001b[0;32m    305\u001b[0m     \u001b[38;5;28;01mif\u001b[39;00m diff_is_nan\u001b[38;5;241m.\u001b[39many():\n\u001b[0;32m    306\u001b[0m         \u001b[38;5;66;03m# removes nan from valid_mask\u001b[39;00m\n",
      "\u001b[1;31mTypeError\u001b[0m: ufunc 'isnan' not supported for the input types, and the inputs could not be safely coerced to any supported types according to the casting rule ''safe''"
     ]
    }
   ],
   "source": [
    "from supervised import AutoML\n",
    "import pandas as pd\n",
    "import numpy as np\n",
    "import warnings\n",
    "from IPython.display import display\n",
    "\n",
    "warnings.filterwarnings(\"ignore\")\n",
    "pd.set_option('display.max_columns', 500)\n",
    "\n",
    "col_to_drop = ['Valor dólar informal semestral', 'identificador', 'Año', 'Semestre', 'Salario mensual (en tu moneda local)', 'target']\n",
    "\n",
    "train_data = pd.read_csv('train_data.csv', low_memory=False)\n",
    "train_data['target'] = train_data['Valor dólar informal semestral']*train_data['Salario mensual (en tu moneda local)']\n",
    "test_data = pd.read_csv('features.csv', low_memory=False)\n",
    "\n",
    "automl = AutoML(mode=\"Compete\", total_time_limit=5*60, eval_metric='rmse')\n",
    "automl.fit(train_data.drop(columns=['Salario mensual (en tu moneda local)', 'Valor dólar informal semestral', 'identificador', 'Año', 'Semestre', 'target']), train_data['target'])\n",
    "\n",
    "preds = automl.predict(test_data.drop(columns=['Valor dólar informal semestral', 'identificador', 'Año', 'Semestre']))\n",
    "preds = pd.DataFrame(preds).rename(columns={0:'target'})\n",
    "test_data = test_data.join(preds)\n",
    "test_data[['id', 'target']].to_csv('rga_mljar.csv', index=False)"
   ]
  },
  {
   "cell_type": "code",
   "execution_count": null,
   "id": "4052a20f",
   "metadata": {},
   "outputs": [],
   "source": []
  }
 ],
 "metadata": {
  "kernelspec": {
   "display_name": "mljar",
   "language": "python",
   "name": "mljar"
  },
  "language_info": {
   "codemirror_mode": {
    "name": "ipython",
    "version": 3
   },
   "file_extension": ".py",
   "mimetype": "text/x-python",
   "name": "python",
   "nbconvert_exporter": "python",
   "pygments_lexer": "ipython3",
   "version": "3.10.6"
  }
 },
 "nbformat": 4,
 "nbformat_minor": 5
}
