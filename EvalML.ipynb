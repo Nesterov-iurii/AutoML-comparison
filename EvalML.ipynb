{
 "cells": [
  {
   "cell_type": "markdown",
   "id": "a3cd7a3c",
   "metadata": {},
   "source": [
    "# Zindi"
   ]
  },
  {
   "cell_type": "code",
   "execution_count": 14,
   "id": "27f63bf9",
   "metadata": {},
   "outputs": [
    {
     "name": "stdout",
     "output_type": "stream",
     "text": [
      "XGBoost Regressor w/ Replace Nullable Types Transformer + Imputer + Select Columns Transformer\n"
     ]
    }
   ],
   "source": [
    "import evalml\n",
    "from evalml import AutoMLSearch\n",
    "import pandas as pd\n",
    "import numpy as np\n",
    "import warnings\n",
    "from IPython.display import display\n",
    "\n",
    "warnings.filterwarnings(\"ignore\")\n",
    "pd.set_option('display.max_columns', 500)\n",
    "\n",
    "train_data = pd.read_csv('train_cleaned_nonBool.csv', low_memory=False)\n",
    "test_data = pd.read_csv('test_cleaned_nonBool.csv', low_memory=False)\n",
    "prophet_preds = pd.read_csv('prophet_prediction.csv', low_memory=False)\n",
    "train_data = train_data.merge(prophet_preds, on='date')\n",
    "test_data = test_data.merge(prophet_preds, on='date')\n",
    "\n",
    "# perform a search across multiple pipelines and hyperparameters\n",
    "automl = AutoMLSearch(X_train=train_data.drop(columns=['ID','device','date','pm2_5']), \n",
    "                      y_train=train_data['pm2_5'], \n",
    "                      problem_type='regression',\n",
    "                      max_time=5400)\n",
    "automl.search()\n",
    "\n",
    "# the best pipeline is already refitted on the entire training data\n",
    "best_pipeline = automl.best_pipeline\n",
    "print(automl.best_pipeline)\n",
    "\n",
    "preds = best_pipeline.predict(test_data.drop(columns=['ID','device','date']))\n",
    "preds = pd.DataFrame(preds).rename(columns={0:'pm2_5'})\n",
    "test_data = test_data.join(preds)\n",
    "test_data[['ID', 'pm2_5']].to_csv('zindi_evalml.csv', index=False)"
   ]
  },
  {
   "cell_type": "code",
   "execution_count": 15,
   "id": "fada9b6d",
   "metadata": {},
   "outputs": [],
   "source": [
    "del train_data\n",
    "del test_data\n",
    "del preds\n",
    "del automl"
   ]
  },
  {
   "cell_type": "markdown",
   "id": "0e2374f8",
   "metadata": {},
   "source": [
    "# Sber"
   ]
  },
  {
   "cell_type": "code",
   "execution_count": 4,
   "id": "ac71e45c",
   "metadata": {},
   "outputs": [
    {
     "name": "stderr",
     "output_type": "stream",
     "text": [
      "\tHigh coefficient of variation (cv >= 0.5) within cross validation scores.\n",
      "\tElastic Net Regressor w/ Replace Nullable Types Transformer + DateTime Featurizer + Imputer + One Hot Encoder + Standard Scaler may not perform as estimated on unseen data.\n"
     ]
    },
    {
     "name": "stdout",
     "output_type": "stream",
     "text": [
      "Random Forest Regressor w/ Replace Nullable Types Transformer + DateTime Featurizer + Imputer + One Hot Encoder\n"
     ]
    },
    {
     "ename": "PipelineError",
     "evalue": "Input X data types are different from the input types the pipeline was fitted on.",
     "output_type": "error",
     "traceback": [
      "\u001b[1;31m---------------------------------------------------------------------------\u001b[0m",
      "\u001b[1;31mPipelineError\u001b[0m                             Traceback (most recent call last)",
      "Cell \u001b[1;32mIn [4], line 25\u001b[0m\n\u001b[0;32m     22\u001b[0m best_pipeline \u001b[38;5;241m=\u001b[39m automl\u001b[38;5;241m.\u001b[39mbest_pipeline\n\u001b[0;32m     23\u001b[0m \u001b[38;5;28mprint\u001b[39m(automl\u001b[38;5;241m.\u001b[39mbest_pipeline)\n\u001b[1;32m---> 25\u001b[0m preds \u001b[38;5;241m=\u001b[39m best_pipeline\u001b[38;5;241m.\u001b[39mpredict(test_data\u001b[38;5;241m.\u001b[39mdrop(columns\u001b[38;5;241m=\u001b[39m[\u001b[38;5;124m'\u001b[39m\u001b[38;5;124mid\u001b[39m\u001b[38;5;124m'\u001b[39m]))\n\u001b[0;32m     26\u001b[0m preds \u001b[38;5;241m=\u001b[39m pd\u001b[38;5;241m.\u001b[39mDataFrame(preds)\u001b[38;5;241m.\u001b[39mrename(columns\u001b[38;5;241m=\u001b[39m{\u001b[38;5;241m0\u001b[39m:\u001b[38;5;124m'\u001b[39m\u001b[38;5;124mprice_doc\u001b[39m\u001b[38;5;124m'\u001b[39m})\n\u001b[0;32m     27\u001b[0m test_data \u001b[38;5;241m=\u001b[39m test_data\u001b[38;5;241m.\u001b[39mjoin(preds)\n",
      "File \u001b[1;32mD:\\Anaconda\\envs\\evalml2\\lib\\site-packages\\evalml\\pipelines\\pipeline_meta.py:33\u001b[0m, in \u001b[0;36mPipelineBaseMeta.check_for_fit.<locals>._check_for_fit\u001b[1;34m(self, *args, **kwargs)\u001b[0m\n\u001b[0;32m     28\u001b[0m \u001b[38;5;28;01mif\u001b[39;00m \u001b[38;5;129;01mnot\u001b[39;00m \u001b[38;5;28mself\u001b[39m\u001b[38;5;241m.\u001b[39m_is_fitted:\n\u001b[0;32m     29\u001b[0m     \u001b[38;5;28;01mraise\u001b[39;00m PipelineNotYetFittedError(\n\u001b[0;32m     30\u001b[0m         \u001b[38;5;124mf\u001b[39m\u001b[38;5;124m\"\u001b[39m\u001b[38;5;124mThis \u001b[39m\u001b[38;5;132;01m{\u001b[39;00mklass\u001b[38;5;132;01m}\u001b[39;00m\u001b[38;5;124m is not fitted yet. You must fit \u001b[39m\u001b[38;5;132;01m{\u001b[39;00mklass\u001b[38;5;132;01m}\u001b[39;00m\u001b[38;5;124m before calling \u001b[39m\u001b[38;5;132;01m{\u001b[39;00mmethod\u001b[38;5;241m.\u001b[39m\u001b[38;5;18m__name__\u001b[39m\u001b[38;5;132;01m}\u001b[39;00m\u001b[38;5;124m.\u001b[39m\u001b[38;5;124m\"\u001b[39m,\n\u001b[0;32m     31\u001b[0m     )\n\u001b[1;32m---> 33\u001b[0m \u001b[38;5;28;01mreturn\u001b[39;00m method(\u001b[38;5;28mself\u001b[39m, \u001b[38;5;241m*\u001b[39margs, \u001b[38;5;241m*\u001b[39m\u001b[38;5;241m*\u001b[39mkwargs)\n",
      "File \u001b[1;32mD:\\Anaconda\\envs\\evalml2\\lib\\site-packages\\evalml\\pipelines\\regression_pipeline.py:98\u001b[0m, in \u001b[0;36mRegressionPipeline.predict\u001b[1;34m(self, X, objective, X_train, y_train)\u001b[0m\n\u001b[0;32m     86\u001b[0m \u001b[38;5;124;03m\"\"\"Make predictions using selected features.\u001b[39;00m\n\u001b[0;32m     87\u001b[0m \n\u001b[0;32m     88\u001b[0m \u001b[38;5;124;03mArgs:\u001b[39;00m\n\u001b[1;32m   (...)\u001b[0m\n\u001b[0;32m     95\u001b[0m \u001b[38;5;124;03m    pd.Series: Predicted values.\u001b[39;00m\n\u001b[0;32m     96\u001b[0m \u001b[38;5;124;03m\"\"\"\u001b[39;00m\n\u001b[0;32m     97\u001b[0m X \u001b[38;5;241m=\u001b[39m infer_feature_types(X)\n\u001b[1;32m---> 98\u001b[0m predictions \u001b[38;5;241m=\u001b[39m \u001b[38;5;28;43mself\u001b[39;49m\u001b[38;5;241;43m.\u001b[39;49m\u001b[43mcomponent_graph\u001b[49m\u001b[38;5;241;43m.\u001b[39;49m\u001b[43mpredict\u001b[49m\u001b[43m(\u001b[49m\u001b[43mX\u001b[49m\u001b[43m)\u001b[49m\n\u001b[0;32m     99\u001b[0m predictions \u001b[38;5;241m=\u001b[39m \u001b[38;5;28mself\u001b[39m\u001b[38;5;241m.\u001b[39minverse_transform(predictions)\n\u001b[0;32m    100\u001b[0m predictions\u001b[38;5;241m.\u001b[39mname \u001b[38;5;241m=\u001b[39m \u001b[38;5;28mself\u001b[39m\u001b[38;5;241m.\u001b[39minput_target_name\n",
      "File \u001b[1;32mD:\\Anaconda\\envs\\evalml2\\lib\\site-packages\\evalml\\pipelines\\component_graph.py:406\u001b[0m, in \u001b[0;36mComponentGraph.predict\u001b[1;34m(self, X)\u001b[0m\n\u001b[0;32m    402\u001b[0m \u001b[38;5;28;01mif\u001b[39;00m \u001b[38;5;129;01mnot\u001b[39;00m \u001b[38;5;28misinstance\u001b[39m(final_component_instance, Estimator):\n\u001b[0;32m    403\u001b[0m     \u001b[38;5;28;01mraise\u001b[39;00m \u001b[38;5;167;01mValueError\u001b[39;00m(\n\u001b[0;32m    404\u001b[0m         \u001b[38;5;124m\"\u001b[39m\u001b[38;5;124mCannot call predict() on a component graph because the final component is not an Estimator.\u001b[39m\u001b[38;5;124m\"\u001b[39m,\n\u001b[0;32m    405\u001b[0m     )\n\u001b[1;32m--> 406\u001b[0m outputs \u001b[38;5;241m=\u001b[39m \u001b[38;5;28;43mself\u001b[39;49m\u001b[38;5;241;43m.\u001b[39;49m\u001b[43m_transform_features\u001b[49m\u001b[43m(\u001b[49m\n\u001b[0;32m    407\u001b[0m \u001b[43m    \u001b[49m\u001b[38;5;28;43mself\u001b[39;49m\u001b[38;5;241;43m.\u001b[39;49m\u001b[43mcompute_order\u001b[49m\u001b[43m,\u001b[49m\n\u001b[0;32m    408\u001b[0m \u001b[43m    \u001b[49m\u001b[43mX\u001b[49m\u001b[43m,\u001b[49m\n\u001b[0;32m    409\u001b[0m \u001b[43m    \u001b[49m\u001b[43mevaluate_training_only_components\u001b[49m\u001b[38;5;241;43m=\u001b[39;49m\u001b[38;5;28;43;01mFalse\u001b[39;49;00m\u001b[43m,\u001b[49m\n\u001b[0;32m    410\u001b[0m \u001b[43m\u001b[49m\u001b[43m)\u001b[49m\n\u001b[0;32m    411\u001b[0m \u001b[38;5;28;01mreturn\u001b[39;00m infer_feature_types(outputs\u001b[38;5;241m.\u001b[39mget(\u001b[38;5;124mf\u001b[39m\u001b[38;5;124m\"\u001b[39m\u001b[38;5;132;01m{\u001b[39;00mfinal_component\u001b[38;5;132;01m}\u001b[39;00m\u001b[38;5;124m.x\u001b[39m\u001b[38;5;124m\"\u001b[39m))\n",
      "File \u001b[1;32mD:\\Anaconda\\envs\\evalml2\\lib\\site-packages\\evalml\\pipelines\\component_graph.py:452\u001b[0m, in \u001b[0;36mComponentGraph._transform_features\u001b[1;34m(self, component_list, X, y, fit, evaluate_training_only_components)\u001b[0m\n\u001b[0;32m    446\u001b[0m     X_schema \u001b[38;5;241m=\u001b[39m (\n\u001b[0;32m    447\u001b[0m         \u001b[38;5;28mself\u001b[39m\u001b[38;5;241m.\u001b[39m_return_non_engineered_features(X)\u001b[38;5;241m.\u001b[39mww\u001b[38;5;241m.\u001b[39mschema\n\u001b[0;32m    448\u001b[0m         \u001b[38;5;28;01mif\u001b[39;00m \u001b[38;5;124m\"\u001b[39m\u001b[38;5;124mDFS Transformer\u001b[39m\u001b[38;5;124m\"\u001b[39m \u001b[38;5;129;01min\u001b[39;00m \u001b[38;5;28mself\u001b[39m\u001b[38;5;241m.\u001b[39mcompute_order\n\u001b[0;32m    449\u001b[0m         \u001b[38;5;28;01melse\u001b[39;00m X\u001b[38;5;241m.\u001b[39mww\u001b[38;5;241m.\u001b[39mschema\n\u001b[0;32m    450\u001b[0m     )\n\u001b[0;32m    451\u001b[0m     \u001b[38;5;28;01mif\u001b[39;00m \u001b[38;5;129;01mnot\u001b[39;00m _schema_is_equal(X_schema, \u001b[38;5;28mself\u001b[39m\u001b[38;5;241m.\u001b[39m_input_types):\n\u001b[1;32m--> 452\u001b[0m         \u001b[38;5;28;01mraise\u001b[39;00m PipelineError(\n\u001b[0;32m    453\u001b[0m             \u001b[38;5;124m\"\u001b[39m\u001b[38;5;124mInput X data types are different from the input types the pipeline was fitted on.\u001b[39m\u001b[38;5;124m\"\u001b[39m,\n\u001b[0;32m    454\u001b[0m             code\u001b[38;5;241m=\u001b[39mPipelineErrorCodeEnum\u001b[38;5;241m.\u001b[39mPREDICT_INPUT_SCHEMA_UNEQUAL,\n\u001b[0;32m    455\u001b[0m             details\u001b[38;5;241m=\u001b[39m{\n\u001b[0;32m    456\u001b[0m                 \u001b[38;5;124m\"\u001b[39m\u001b[38;5;124minput_features_types\u001b[39m\u001b[38;5;124m\"\u001b[39m: X_schema\u001b[38;5;241m.\u001b[39mtypes,\n\u001b[0;32m    457\u001b[0m                 \u001b[38;5;124m\"\u001b[39m\u001b[38;5;124mpipeline_features_types\u001b[39m\u001b[38;5;124m\"\u001b[39m: \u001b[38;5;28mself\u001b[39m\u001b[38;5;241m.\u001b[39m_input_types\u001b[38;5;241m.\u001b[39mtypes,\n\u001b[0;32m    458\u001b[0m             },\n\u001b[0;32m    459\u001b[0m         )\n\u001b[0;32m    460\u001b[0m \u001b[38;5;28;01melse\u001b[39;00m:\n\u001b[0;32m    461\u001b[0m     \u001b[38;5;28mself\u001b[39m\u001b[38;5;241m.\u001b[39m_input_types \u001b[38;5;241m=\u001b[39m (\n\u001b[0;32m    462\u001b[0m         \u001b[38;5;28mself\u001b[39m\u001b[38;5;241m.\u001b[39m_return_non_engineered_features(X)\u001b[38;5;241m.\u001b[39mww\u001b[38;5;241m.\u001b[39mschema\n\u001b[0;32m    463\u001b[0m         \u001b[38;5;28;01mif\u001b[39;00m \u001b[38;5;124m\"\u001b[39m\u001b[38;5;124mDFS Transformer\u001b[39m\u001b[38;5;124m\"\u001b[39m \u001b[38;5;129;01min\u001b[39;00m \u001b[38;5;28mself\u001b[39m\u001b[38;5;241m.\u001b[39mcompute_order\n\u001b[0;32m    464\u001b[0m         \u001b[38;5;28;01melse\u001b[39;00m X\u001b[38;5;241m.\u001b[39mww\u001b[38;5;241m.\u001b[39mschema\n\u001b[0;32m    465\u001b[0m     )\n",
      "\u001b[1;31mPipelineError\u001b[0m: Input X data types are different from the input types the pipeline was fitted on."
     ]
    }
   ],
   "source": [
    "import evalml\n",
    "from evalml import AutoMLSearch\n",
    "import pandas as pd\n",
    "import numpy as np\n",
    "import warnings\n",
    "from IPython.display import display\n",
    "\n",
    "warnings.filterwarnings(\"ignore\")\n",
    "pd.set_option('display.max_columns', 500)\n",
    "\n",
    "train_data = pd.read_csv('train_sber.csv', low_memory=False)\n",
    "test_data = pd.read_csv('test_sber.csv', low_memory=False)\n",
    "\n",
    "# perform a search across multiple pipelines and hyperparameters\n",
    "automl = AutoMLSearch(X_train=train_data.drop(columns=['id','price_doc']), \n",
    "                      y_train=train_data['price_doc'], \n",
    "                      problem_type='regression',\n",
    "                      max_time=300)\n",
    "automl.search()\n",
    "\n",
    "# the best pipeline is already refitted on the entire training data\n",
    "best_pipeline = automl.best_pipeline\n",
    "print(automl.best_pipeline)\n",
    "\n",
    "preds = best_pipeline.predict(test_data.drop(columns=['id']))\n",
    "preds = pd.DataFrame(preds).rename(columns={0:'price_doc'})\n",
    "test_data = test_data.join(preds)\n",
    "test_data[['id', 'price_doc']].to_csv('sber_evalml.csv', index=False)"
   ]
  },
  {
   "cell_type": "code",
   "execution_count": 5,
   "id": "2ed06dbe",
   "metadata": {},
   "outputs": [
    {
     "ename": "NameError",
     "evalue": "name 'preds' is not defined",
     "output_type": "error",
     "traceback": [
      "\u001b[1;31m---------------------------------------------------------------------------\u001b[0m",
      "\u001b[1;31mNameError\u001b[0m                                 Traceback (most recent call last)",
      "Cell \u001b[1;32mIn [5], line 3\u001b[0m\n\u001b[0;32m      1\u001b[0m \u001b[38;5;28;01mdel\u001b[39;00m train_data\n\u001b[0;32m      2\u001b[0m \u001b[38;5;28;01mdel\u001b[39;00m test_data\n\u001b[1;32m----> 3\u001b[0m \u001b[38;5;28;01mdel\u001b[39;00m preds\n\u001b[0;32m      4\u001b[0m \u001b[38;5;28;01mdel\u001b[39;00m automl\n",
      "\u001b[1;31mNameError\u001b[0m: name 'preds' is not defined"
     ]
    }
   ],
   "source": [
    "del train_data\n",
    "del test_data\n",
    "del preds\n",
    "del automl"
   ]
  },
  {
   "cell_type": "markdown",
   "id": "38618992",
   "metadata": {},
   "source": [
    "# Santander"
   ]
  },
  {
   "cell_type": "code",
   "execution_count": 16,
   "id": "f85bdfef",
   "metadata": {},
   "outputs": [
    {
     "name": "stderr",
     "output_type": "stream",
     "text": [
      "\tHigh coefficient of variation (cv >= 0.5) within cross validation scores.\n",
      "\tLightGBM Classifier w/ Label Encoder + Replace Nullable Types Transformer + Imputer + Undersampler + Select Columns Transformer may not perform as estimated on unseen data.\n"
     ]
    },
    {
     "name": "stdout",
     "output_type": "stream",
     "text": [
      "XGBoost Classifier w/ Label Encoder + Replace Nullable Types Transformer + Imputer + Undersampler + Select Columns Transformer\n"
     ]
    }
   ],
   "source": [
    "import evalml\n",
    "from evalml import AutoMLSearch\n",
    "import pandas as pd\n",
    "import numpy as np\n",
    "import warnings\n",
    "from IPython.display import display\n",
    "\n",
    "warnings.filterwarnings(\"ignore\")\n",
    "pd.set_option('display.max_columns', 500)\n",
    "\n",
    "train_data = pd.read_csv('train_santander.csv', low_memory=False)\n",
    "test_data = pd.read_csv('test_santander.csv', low_memory=False)\n",
    "\n",
    "# perform a search across multiple pipelines and hyperparameters\n",
    "automl = AutoMLSearch(X_train=train_data.drop(columns=['ID','TARGET']), \n",
    "                      y_train=train_data['TARGET'], \n",
    "                      problem_type='binary',\n",
    "                      max_time=5400)\n",
    "automl.search()\n",
    "\n",
    "best_pipeline = automl.best_pipeline\n",
    "print(automl.best_pipeline)\n",
    "\n",
    "preds = best_pipeline.predict(test_data.drop(columns=['ID']))\n",
    "preds = pd.DataFrame(preds).rename(columns={0:'TARGET'})\n",
    "test_data = test_data.join(preds)\n",
    "test_data[['ID', 'TARGET']].to_csv('santander_evalml.csv', index=False)"
   ]
  },
  {
   "cell_type": "code",
   "execution_count": 17,
   "id": "63378096",
   "metadata": {},
   "outputs": [],
   "source": [
    "del train_data\n",
    "del test_data\n",
    "del preds\n",
    "del automl"
   ]
  },
  {
   "cell_type": "markdown",
   "id": "c64b5e14",
   "metadata": {},
   "source": [
    "# Liberty"
   ]
  },
  {
   "cell_type": "code",
   "execution_count": 10,
   "id": "5e505e39",
   "metadata": {},
   "outputs": [
    {
     "name": "stdout",
     "output_type": "stream",
     "text": [
      "Mean Baseline Regression Pipeline\n"
     ]
    },
    {
     "ename": "TypeConversionError",
     "evalue": "Error converting datatype for weatherVar115 from type float64 to type Int64. Please confirm the underlying data is consistent with logical type IntegerNullable.",
     "output_type": "error",
     "traceback": [
      "\u001b[1;31m---------------------------------------------------------------------------\u001b[0m",
      "\u001b[1;31mTypeError\u001b[0m                                 Traceback (most recent call last)",
      "File \u001b[1;32m~\\AppData\\Roaming\\Python\\Python310\\site-packages\\pandas\\core\\arrays\\integer.py:120\u001b[0m, in \u001b[0;36msafe_cast\u001b[1;34m(values, dtype, copy)\u001b[0m\n\u001b[0;32m    119\u001b[0m \u001b[38;5;28;01mtry\u001b[39;00m:\n\u001b[1;32m--> 120\u001b[0m     \u001b[38;5;28;01mreturn\u001b[39;00m \u001b[43mvalues\u001b[49m\u001b[38;5;241;43m.\u001b[39;49m\u001b[43mastype\u001b[49m\u001b[43m(\u001b[49m\u001b[43mdtype\u001b[49m\u001b[43m,\u001b[49m\u001b[43m \u001b[49m\u001b[43mcasting\u001b[49m\u001b[38;5;241;43m=\u001b[39;49m\u001b[38;5;124;43m\"\u001b[39;49m\u001b[38;5;124;43msafe\u001b[39;49m\u001b[38;5;124;43m\"\u001b[39;49m\u001b[43m,\u001b[49m\u001b[43m \u001b[49m\u001b[43mcopy\u001b[49m\u001b[38;5;241;43m=\u001b[39;49m\u001b[43mcopy\u001b[49m\u001b[43m)\u001b[49m\n\u001b[0;32m    121\u001b[0m \u001b[38;5;28;01mexcept\u001b[39;00m \u001b[38;5;167;01mTypeError\u001b[39;00m \u001b[38;5;28;01mas\u001b[39;00m err:\n",
      "\u001b[1;31mTypeError\u001b[0m: Cannot cast array data from dtype('float64') to dtype('int64') according to the rule 'safe'",
      "\nThe above exception was the direct cause of the following exception:\n",
      "\u001b[1;31mTypeError\u001b[0m                                 Traceback (most recent call last)",
      "File \u001b[1;32mD:\\Anaconda\\envs\\evalml2\\lib\\site-packages\\woodwork\\logical_types.py:74\u001b[0m, in \u001b[0;36mLogicalType.transform\u001b[1;34m(self, series, null_invalid_values)\u001b[0m\n\u001b[0;32m     73\u001b[0m \u001b[38;5;28;01mtry\u001b[39;00m:\n\u001b[1;32m---> 74\u001b[0m     series \u001b[38;5;241m=\u001b[39m \u001b[43mseries\u001b[49m\u001b[38;5;241;43m.\u001b[39;49m\u001b[43mastype\u001b[49m\u001b[43m(\u001b[49m\u001b[43mnew_dtype\u001b[49m\u001b[43m)\u001b[49m\n\u001b[0;32m     75\u001b[0m \u001b[38;5;28;01mexcept\u001b[39;00m (\u001b[38;5;167;01mTypeError\u001b[39;00m, \u001b[38;5;167;01mValueError\u001b[39;00m):\n",
      "File \u001b[1;32m~\\AppData\\Roaming\\Python\\Python310\\site-packages\\pandas\\core\\generic.py:5912\u001b[0m, in \u001b[0;36mNDFrame.astype\u001b[1;34m(self, dtype, copy, errors)\u001b[0m\n\u001b[0;32m   5910\u001b[0m \u001b[38;5;28;01melse\u001b[39;00m:\n\u001b[0;32m   5911\u001b[0m     \u001b[38;5;66;03m# else, only a single dtype is given\u001b[39;00m\n\u001b[1;32m-> 5912\u001b[0m     new_data \u001b[38;5;241m=\u001b[39m \u001b[38;5;28;43mself\u001b[39;49m\u001b[38;5;241;43m.\u001b[39;49m\u001b[43m_mgr\u001b[49m\u001b[38;5;241;43m.\u001b[39;49m\u001b[43mastype\u001b[49m\u001b[43m(\u001b[49m\u001b[43mdtype\u001b[49m\u001b[38;5;241;43m=\u001b[39;49m\u001b[43mdtype\u001b[49m\u001b[43m,\u001b[49m\u001b[43m \u001b[49m\u001b[43mcopy\u001b[49m\u001b[38;5;241;43m=\u001b[39;49m\u001b[43mcopy\u001b[49m\u001b[43m,\u001b[49m\u001b[43m \u001b[49m\u001b[43merrors\u001b[49m\u001b[38;5;241;43m=\u001b[39;49m\u001b[43merrors\u001b[49m\u001b[43m)\u001b[49m\n\u001b[0;32m   5913\u001b[0m     \u001b[38;5;28;01mreturn\u001b[39;00m \u001b[38;5;28mself\u001b[39m\u001b[38;5;241m.\u001b[39m_constructor(new_data)\u001b[38;5;241m.\u001b[39m__finalize__(\u001b[38;5;28mself\u001b[39m, method\u001b[38;5;241m=\u001b[39m\u001b[38;5;124m\"\u001b[39m\u001b[38;5;124mastype\u001b[39m\u001b[38;5;124m\"\u001b[39m)\n",
      "File \u001b[1;32m~\\AppData\\Roaming\\Python\\Python310\\site-packages\\pandas\\core\\internals\\managers.py:419\u001b[0m, in \u001b[0;36mBaseBlockManager.astype\u001b[1;34m(self, dtype, copy, errors)\u001b[0m\n\u001b[0;32m    418\u001b[0m \u001b[38;5;28;01mdef\u001b[39;00m \u001b[38;5;21mastype\u001b[39m(\u001b[38;5;28mself\u001b[39m: T, dtype, copy: \u001b[38;5;28mbool\u001b[39m \u001b[38;5;241m=\u001b[39m \u001b[38;5;28;01mFalse\u001b[39;00m, errors: \u001b[38;5;28mstr\u001b[39m \u001b[38;5;241m=\u001b[39m \u001b[38;5;124m\"\u001b[39m\u001b[38;5;124mraise\u001b[39m\u001b[38;5;124m\"\u001b[39m) \u001b[38;5;241m-\u001b[39m\u001b[38;5;241m>\u001b[39m T:\n\u001b[1;32m--> 419\u001b[0m     \u001b[38;5;28;01mreturn\u001b[39;00m \u001b[38;5;28;43mself\u001b[39;49m\u001b[38;5;241;43m.\u001b[39;49m\u001b[43mapply\u001b[49m\u001b[43m(\u001b[49m\u001b[38;5;124;43m\"\u001b[39;49m\u001b[38;5;124;43mastype\u001b[39;49m\u001b[38;5;124;43m\"\u001b[39;49m\u001b[43m,\u001b[49m\u001b[43m \u001b[49m\u001b[43mdtype\u001b[49m\u001b[38;5;241;43m=\u001b[39;49m\u001b[43mdtype\u001b[49m\u001b[43m,\u001b[49m\u001b[43m \u001b[49m\u001b[43mcopy\u001b[49m\u001b[38;5;241;43m=\u001b[39;49m\u001b[43mcopy\u001b[49m\u001b[43m,\u001b[49m\u001b[43m \u001b[49m\u001b[43merrors\u001b[49m\u001b[38;5;241;43m=\u001b[39;49m\u001b[43merrors\u001b[49m\u001b[43m)\u001b[49m\n",
      "File \u001b[1;32m~\\AppData\\Roaming\\Python\\Python310\\site-packages\\pandas\\core\\internals\\managers.py:304\u001b[0m, in \u001b[0;36mBaseBlockManager.apply\u001b[1;34m(self, f, align_keys, ignore_failures, **kwargs)\u001b[0m\n\u001b[0;32m    303\u001b[0m     \u001b[38;5;28;01melse\u001b[39;00m:\n\u001b[1;32m--> 304\u001b[0m         applied \u001b[38;5;241m=\u001b[39m \u001b[38;5;28mgetattr\u001b[39m(b, f)(\u001b[38;5;241m*\u001b[39m\u001b[38;5;241m*\u001b[39mkwargs)\n\u001b[0;32m    305\u001b[0m \u001b[38;5;28;01mexcept\u001b[39;00m (\u001b[38;5;167;01mTypeError\u001b[39;00m, \u001b[38;5;167;01mNotImplementedError\u001b[39;00m):\n",
      "File \u001b[1;32m~\\AppData\\Roaming\\Python\\Python310\\site-packages\\pandas\\core\\internals\\blocks.py:580\u001b[0m, in \u001b[0;36mBlock.astype\u001b[1;34m(self, dtype, copy, errors)\u001b[0m\n\u001b[0;32m    578\u001b[0m values \u001b[38;5;241m=\u001b[39m \u001b[38;5;28mself\u001b[39m\u001b[38;5;241m.\u001b[39mvalues\n\u001b[1;32m--> 580\u001b[0m new_values \u001b[38;5;241m=\u001b[39m \u001b[43mastype_array_safe\u001b[49m\u001b[43m(\u001b[49m\u001b[43mvalues\u001b[49m\u001b[43m,\u001b[49m\u001b[43m \u001b[49m\u001b[43mdtype\u001b[49m\u001b[43m,\u001b[49m\u001b[43m \u001b[49m\u001b[43mcopy\u001b[49m\u001b[38;5;241;43m=\u001b[39;49m\u001b[43mcopy\u001b[49m\u001b[43m,\u001b[49m\u001b[43m \u001b[49m\u001b[43merrors\u001b[49m\u001b[38;5;241;43m=\u001b[39;49m\u001b[43merrors\u001b[49m\u001b[43m)\u001b[49m\n\u001b[0;32m    582\u001b[0m new_values \u001b[38;5;241m=\u001b[39m maybe_coerce_values(new_values)\n",
      "File \u001b[1;32m~\\AppData\\Roaming\\Python\\Python310\\site-packages\\pandas\\core\\dtypes\\cast.py:1292\u001b[0m, in \u001b[0;36mastype_array_safe\u001b[1;34m(values, dtype, copy, errors)\u001b[0m\n\u001b[0;32m   1291\u001b[0m \u001b[38;5;28;01mtry\u001b[39;00m:\n\u001b[1;32m-> 1292\u001b[0m     new_values \u001b[38;5;241m=\u001b[39m \u001b[43mastype_array\u001b[49m\u001b[43m(\u001b[49m\u001b[43mvalues\u001b[49m\u001b[43m,\u001b[49m\u001b[43m \u001b[49m\u001b[43mdtype\u001b[49m\u001b[43m,\u001b[49m\u001b[43m \u001b[49m\u001b[43mcopy\u001b[49m\u001b[38;5;241;43m=\u001b[39;49m\u001b[43mcopy\u001b[49m\u001b[43m)\u001b[49m\n\u001b[0;32m   1293\u001b[0m \u001b[38;5;28;01mexcept\u001b[39;00m (\u001b[38;5;167;01mValueError\u001b[39;00m, \u001b[38;5;167;01mTypeError\u001b[39;00m):\n\u001b[0;32m   1294\u001b[0m     \u001b[38;5;66;03m# e.g. astype_nansafe can fail on object-dtype of strings\u001b[39;00m\n\u001b[0;32m   1295\u001b[0m     \u001b[38;5;66;03m#  trying to convert to float\u001b[39;00m\n",
      "File \u001b[1;32m~\\AppData\\Roaming\\Python\\Python310\\site-packages\\pandas\\core\\dtypes\\cast.py:1237\u001b[0m, in \u001b[0;36mastype_array\u001b[1;34m(values, dtype, copy)\u001b[0m\n\u001b[0;32m   1236\u001b[0m \u001b[38;5;28;01melse\u001b[39;00m:\n\u001b[1;32m-> 1237\u001b[0m     values \u001b[38;5;241m=\u001b[39m \u001b[43mastype_nansafe\u001b[49m\u001b[43m(\u001b[49m\u001b[43mvalues\u001b[49m\u001b[43m,\u001b[49m\u001b[43m \u001b[49m\u001b[43mdtype\u001b[49m\u001b[43m,\u001b[49m\u001b[43m \u001b[49m\u001b[43mcopy\u001b[49m\u001b[38;5;241;43m=\u001b[39;49m\u001b[43mcopy\u001b[49m\u001b[43m)\u001b[49m\n\u001b[0;32m   1239\u001b[0m \u001b[38;5;66;03m# in pandas we don't store numpy str dtypes, so convert to object\u001b[39;00m\n",
      "File \u001b[1;32m~\\AppData\\Roaming\\Python\\Python310\\site-packages\\pandas\\core\\dtypes\\cast.py:1108\u001b[0m, in \u001b[0;36mastype_nansafe\u001b[1;34m(arr, dtype, copy, skipna)\u001b[0m\n\u001b[0;32m   1107\u001b[0m \u001b[38;5;28;01mif\u001b[39;00m \u001b[38;5;28misinstance\u001b[39m(dtype, ExtensionDtype):\n\u001b[1;32m-> 1108\u001b[0m     \u001b[38;5;28;01mreturn\u001b[39;00m \u001b[43mdtype\u001b[49m\u001b[38;5;241;43m.\u001b[39;49m\u001b[43mconstruct_array_type\u001b[49m\u001b[43m(\u001b[49m\u001b[43m)\u001b[49m\u001b[38;5;241;43m.\u001b[39;49m\u001b[43m_from_sequence\u001b[49m\u001b[43m(\u001b[49m\u001b[43marr\u001b[49m\u001b[43m,\u001b[49m\u001b[43m \u001b[49m\u001b[43mdtype\u001b[49m\u001b[38;5;241;43m=\u001b[39;49m\u001b[43mdtype\u001b[49m\u001b[43m,\u001b[49m\u001b[43m \u001b[49m\u001b[43mcopy\u001b[49m\u001b[38;5;241;43m=\u001b[39;49m\u001b[43mcopy\u001b[49m\u001b[43m)\u001b[49m\n\u001b[0;32m   1110\u001b[0m \u001b[38;5;28;01melif\u001b[39;00m \u001b[38;5;129;01mnot\u001b[39;00m \u001b[38;5;28misinstance\u001b[39m(dtype, np\u001b[38;5;241m.\u001b[39mdtype):  \u001b[38;5;66;03m# pragma: no cover\u001b[39;00m\n",
      "File \u001b[1;32m~\\AppData\\Roaming\\Python\\Python310\\site-packages\\pandas\\core\\arrays\\integer.py:325\u001b[0m, in \u001b[0;36mIntegerArray._from_sequence\u001b[1;34m(cls, scalars, dtype, copy)\u001b[0m\n\u001b[0;32m    321\u001b[0m \u001b[38;5;129m@classmethod\u001b[39m\n\u001b[0;32m    322\u001b[0m \u001b[38;5;28;01mdef\u001b[39;00m \u001b[38;5;21m_from_sequence\u001b[39m(\n\u001b[0;32m    323\u001b[0m     \u001b[38;5;28mcls\u001b[39m, scalars, \u001b[38;5;241m*\u001b[39m, dtype: Dtype \u001b[38;5;241m|\u001b[39m \u001b[38;5;28;01mNone\u001b[39;00m \u001b[38;5;241m=\u001b[39m \u001b[38;5;28;01mNone\u001b[39;00m, copy: \u001b[38;5;28mbool\u001b[39m \u001b[38;5;241m=\u001b[39m \u001b[38;5;28;01mFalse\u001b[39;00m\n\u001b[0;32m    324\u001b[0m ) \u001b[38;5;241m-\u001b[39m\u001b[38;5;241m>\u001b[39m IntegerArray:\n\u001b[1;32m--> 325\u001b[0m     values, mask \u001b[38;5;241m=\u001b[39m \u001b[43mcoerce_to_array\u001b[49m\u001b[43m(\u001b[49m\u001b[43mscalars\u001b[49m\u001b[43m,\u001b[49m\u001b[43m \u001b[49m\u001b[43mdtype\u001b[49m\u001b[38;5;241;43m=\u001b[39;49m\u001b[43mdtype\u001b[49m\u001b[43m,\u001b[49m\u001b[43m \u001b[49m\u001b[43mcopy\u001b[49m\u001b[38;5;241;43m=\u001b[39;49m\u001b[43mcopy\u001b[49m\u001b[43m)\u001b[49m\n\u001b[0;32m    326\u001b[0m     \u001b[38;5;28;01mreturn\u001b[39;00m IntegerArray(values, mask)\n",
      "File \u001b[1;32m~\\AppData\\Roaming\\Python\\Python310\\site-packages\\pandas\\core\\arrays\\integer.py:230\u001b[0m, in \u001b[0;36mcoerce_to_array\u001b[1;34m(values, dtype, mask, copy)\u001b[0m\n\u001b[0;32m    229\u001b[0m \u001b[38;5;28;01melse\u001b[39;00m:\n\u001b[1;32m--> 230\u001b[0m     values \u001b[38;5;241m=\u001b[39m \u001b[43msafe_cast\u001b[49m\u001b[43m(\u001b[49m\u001b[43mvalues\u001b[49m\u001b[43m,\u001b[49m\u001b[43m \u001b[49m\u001b[43mdtype\u001b[49m\u001b[43m,\u001b[49m\u001b[43m \u001b[49m\u001b[43mcopy\u001b[49m\u001b[38;5;241;43m=\u001b[39;49m\u001b[38;5;28;43;01mFalse\u001b[39;49;00m\u001b[43m)\u001b[49m\n\u001b[0;32m    232\u001b[0m \u001b[38;5;28;01mreturn\u001b[39;00m values, mask\n",
      "File \u001b[1;32m~\\AppData\\Roaming\\Python\\Python310\\site-packages\\pandas\\core\\arrays\\integer.py:126\u001b[0m, in \u001b[0;36msafe_cast\u001b[1;34m(values, dtype, copy)\u001b[0m\n\u001b[0;32m    124\u001b[0m     \u001b[38;5;28;01mreturn\u001b[39;00m casted\n\u001b[1;32m--> 126\u001b[0m \u001b[38;5;28;01mraise\u001b[39;00m \u001b[38;5;167;01mTypeError\u001b[39;00m(\n\u001b[0;32m    127\u001b[0m     \u001b[38;5;124mf\u001b[39m\u001b[38;5;124m\"\u001b[39m\u001b[38;5;124mcannot safely cast non-equivalent \u001b[39m\u001b[38;5;132;01m{\u001b[39;00mvalues\u001b[38;5;241m.\u001b[39mdtype\u001b[38;5;132;01m}\u001b[39;00m\u001b[38;5;124m to \u001b[39m\u001b[38;5;132;01m{\u001b[39;00mnp\u001b[38;5;241m.\u001b[39mdtype(dtype)\u001b[38;5;132;01m}\u001b[39;00m\u001b[38;5;124m\"\u001b[39m\n\u001b[0;32m    128\u001b[0m ) \u001b[38;5;28;01mfrom\u001b[39;00m \u001b[38;5;21;01merr\u001b[39;00m\n",
      "\u001b[1;31mTypeError\u001b[0m: cannot safely cast non-equivalent float64 to int64",
      "\nDuring handling of the above exception, another exception occurred:\n",
      "\u001b[1;31mTypeConversionError\u001b[0m                       Traceback (most recent call last)",
      "Cell \u001b[1;32mIn [10], line 25\u001b[0m\n\u001b[0;32m     22\u001b[0m best_pipeline \u001b[38;5;241m=\u001b[39m automl\u001b[38;5;241m.\u001b[39mbest_pipeline\n\u001b[0;32m     23\u001b[0m \u001b[38;5;28mprint\u001b[39m(automl\u001b[38;5;241m.\u001b[39mbest_pipeline)\n\u001b[1;32m---> 25\u001b[0m preds \u001b[38;5;241m=\u001b[39m best_pipeline\u001b[38;5;241m.\u001b[39mpredict(test_data\u001b[38;5;241m.\u001b[39mdrop(columns\u001b[38;5;241m=\u001b[39m[\u001b[38;5;124m'\u001b[39m\u001b[38;5;124mid\u001b[39m\u001b[38;5;124m'\u001b[39m]))\n\u001b[0;32m     26\u001b[0m preds \u001b[38;5;241m=\u001b[39m pd\u001b[38;5;241m.\u001b[39mDataFrame(preds)\u001b[38;5;241m.\u001b[39mrename(columns\u001b[38;5;241m=\u001b[39m{\u001b[38;5;241m0\u001b[39m:\u001b[38;5;124m'\u001b[39m\u001b[38;5;124mtarget\u001b[39m\u001b[38;5;124m'\u001b[39m})\n\u001b[0;32m     27\u001b[0m test_data \u001b[38;5;241m=\u001b[39m test_data\u001b[38;5;241m.\u001b[39mjoin(preds)\n",
      "File \u001b[1;32mD:\\Anaconda\\envs\\evalml2\\lib\\site-packages\\evalml\\pipelines\\pipeline_meta.py:33\u001b[0m, in \u001b[0;36mPipelineBaseMeta.check_for_fit.<locals>._check_for_fit\u001b[1;34m(self, *args, **kwargs)\u001b[0m\n\u001b[0;32m     28\u001b[0m \u001b[38;5;28;01mif\u001b[39;00m \u001b[38;5;129;01mnot\u001b[39;00m \u001b[38;5;28mself\u001b[39m\u001b[38;5;241m.\u001b[39m_is_fitted:\n\u001b[0;32m     29\u001b[0m     \u001b[38;5;28;01mraise\u001b[39;00m PipelineNotYetFittedError(\n\u001b[0;32m     30\u001b[0m         \u001b[38;5;124mf\u001b[39m\u001b[38;5;124m\"\u001b[39m\u001b[38;5;124mThis \u001b[39m\u001b[38;5;132;01m{\u001b[39;00mklass\u001b[38;5;132;01m}\u001b[39;00m\u001b[38;5;124m is not fitted yet. You must fit \u001b[39m\u001b[38;5;132;01m{\u001b[39;00mklass\u001b[38;5;132;01m}\u001b[39;00m\u001b[38;5;124m before calling \u001b[39m\u001b[38;5;132;01m{\u001b[39;00mmethod\u001b[38;5;241m.\u001b[39m\u001b[38;5;18m__name__\u001b[39m\u001b[38;5;132;01m}\u001b[39;00m\u001b[38;5;124m.\u001b[39m\u001b[38;5;124m\"\u001b[39m,\n\u001b[0;32m     31\u001b[0m     )\n\u001b[1;32m---> 33\u001b[0m \u001b[38;5;28;01mreturn\u001b[39;00m method(\u001b[38;5;28mself\u001b[39m, \u001b[38;5;241m*\u001b[39margs, \u001b[38;5;241m*\u001b[39m\u001b[38;5;241m*\u001b[39mkwargs)\n",
      "File \u001b[1;32mD:\\Anaconda\\envs\\evalml2\\lib\\site-packages\\evalml\\pipelines\\regression_pipeline.py:97\u001b[0m, in \u001b[0;36mRegressionPipeline.predict\u001b[1;34m(self, X, objective, X_train, y_train)\u001b[0m\n\u001b[0;32m     85\u001b[0m \u001b[38;5;28;01mdef\u001b[39;00m \u001b[38;5;21mpredict\u001b[39m(\u001b[38;5;28mself\u001b[39m, X, objective\u001b[38;5;241m=\u001b[39m\u001b[38;5;28;01mNone\u001b[39;00m, X_train\u001b[38;5;241m=\u001b[39m\u001b[38;5;28;01mNone\u001b[39;00m, y_train\u001b[38;5;241m=\u001b[39m\u001b[38;5;28;01mNone\u001b[39;00m):\n\u001b[0;32m     86\u001b[0m     \u001b[38;5;124;03m\"\"\"Make predictions using selected features.\u001b[39;00m\n\u001b[0;32m     87\u001b[0m \n\u001b[0;32m     88\u001b[0m \u001b[38;5;124;03m    Args:\u001b[39;00m\n\u001b[1;32m   (...)\u001b[0m\n\u001b[0;32m     95\u001b[0m \u001b[38;5;124;03m        pd.Series: Predicted values.\u001b[39;00m\n\u001b[0;32m     96\u001b[0m \u001b[38;5;124;03m    \"\"\"\u001b[39;00m\n\u001b[1;32m---> 97\u001b[0m     X \u001b[38;5;241m=\u001b[39m \u001b[43minfer_feature_types\u001b[49m\u001b[43m(\u001b[49m\u001b[43mX\u001b[49m\u001b[43m)\u001b[49m\n\u001b[0;32m     98\u001b[0m     predictions \u001b[38;5;241m=\u001b[39m \u001b[38;5;28mself\u001b[39m\u001b[38;5;241m.\u001b[39mcomponent_graph\u001b[38;5;241m.\u001b[39mpredict(X)\n\u001b[0;32m     99\u001b[0m     predictions \u001b[38;5;241m=\u001b[39m \u001b[38;5;28mself\u001b[39m\u001b[38;5;241m.\u001b[39minverse_transform(predictions)\n",
      "File \u001b[1;32mD:\\Anaconda\\envs\\evalml2\\lib\\site-packages\\evalml\\utils\\woodwork_utils.py:74\u001b[0m, in \u001b[0;36minfer_feature_types\u001b[1;34m(data, feature_types)\u001b[0m\n\u001b[0;32m     72\u001b[0m \u001b[38;5;28;01melse\u001b[39;00m:\n\u001b[0;32m     73\u001b[0m     ww_data \u001b[38;5;241m=\u001b[39m data\u001b[38;5;241m.\u001b[39mcopy()\n\u001b[1;32m---> 74\u001b[0m     \u001b[43mww_data\u001b[49m\u001b[38;5;241;43m.\u001b[39;49m\u001b[43mww\u001b[49m\u001b[38;5;241;43m.\u001b[39;49m\u001b[43minit\u001b[49m\u001b[43m(\u001b[49m\u001b[43mlogical_types\u001b[49m\u001b[38;5;241;43m=\u001b[39;49m\u001b[43mfeature_types\u001b[49m\u001b[43m)\u001b[49m\n\u001b[0;32m     75\u001b[0m     \u001b[38;5;28;01mreturn\u001b[39;00m ww_data\n",
      "File \u001b[1;32mD:\\Anaconda\\envs\\evalml2\\lib\\site-packages\\woodwork\\table_accessor.py:101\u001b[0m, in \u001b[0;36mWoodworkTableAccessor.init\u001b[1;34m(self, **kwargs)\u001b[0m\n\u001b[0;32m     49\u001b[0m \u001b[38;5;28;01mdef\u001b[39;00m \u001b[38;5;21minit\u001b[39m(\u001b[38;5;28mself\u001b[39m, \u001b[38;5;241m*\u001b[39m\u001b[38;5;241m*\u001b[39mkwargs):\n\u001b[0;32m     50\u001b[0m     \u001b[38;5;124;03m\"\"\"Initializes Woodwork typing information for a DataFrame with a partial schema.\u001b[39;00m\n\u001b[0;32m     51\u001b[0m \n\u001b[0;32m     52\u001b[0m \u001b[38;5;124;03m    Logical type priority:\u001b[39;00m\n\u001b[1;32m   (...)\u001b[0m\n\u001b[0;32m     99\u001b[0m \u001b[38;5;124;03m            Any errors resulting from skipping validation with invalid inputs may not be easily understood.\u001b[39;00m\n\u001b[0;32m    100\u001b[0m \u001b[38;5;124;03m    \"\"\"\u001b[39;00m\n\u001b[1;32m--> 101\u001b[0m     \u001b[38;5;28mself\u001b[39m\u001b[38;5;241m.\u001b[39minit_with_partial_schema(\u001b[38;5;241m*\u001b[39m\u001b[38;5;241m*\u001b[39mkwargs)\n",
      "File \u001b[1;32mD:\\Anaconda\\envs\\evalml2\\lib\\site-packages\\woodwork\\table_accessor.py:237\u001b[0m, in \u001b[0;36mWoodworkTableAccessor.init_with_partial_schema\u001b[1;34m(self, schema, index, time_index, logical_types, ignore_columns, already_sorted, name, semantic_tags, table_metadata, column_metadata, use_standard_tags, column_descriptions, column_origins, null_invalid_values, validate, **kwargs)\u001b[0m\n\u001b[0;32m    234\u001b[0m         existing_use_standard_tags[col_name] \u001b[38;5;241m=\u001b[39m col_schema\u001b[38;5;241m.\u001b[39muse_standard_tags\n\u001b[0;32m    236\u001b[0m \u001b[38;5;66;03m# overwrite schema parameters with specified kwargs\u001b[39;00m\n\u001b[1;32m--> 237\u001b[0m logical_types \u001b[38;5;241m=\u001b[39m \u001b[43m_infer_missing_logical_types\u001b[49m\u001b[43m(\u001b[49m\n\u001b[0;32m    238\u001b[0m \u001b[43m    \u001b[49m\u001b[38;5;28;43mself\u001b[39;49m\u001b[38;5;241;43m.\u001b[39;49m\u001b[43m_dataframe\u001b[49m\u001b[43m,\u001b[49m\n\u001b[0;32m    239\u001b[0m \u001b[43m    \u001b[49m\u001b[43mlogical_types\u001b[49m\u001b[43m,\u001b[49m\n\u001b[0;32m    240\u001b[0m \u001b[43m    \u001b[49m\u001b[43mexisting_logical_types\u001b[49m\u001b[43m,\u001b[49m\n\u001b[0;32m    241\u001b[0m \u001b[43m    \u001b[49m\u001b[43mignore_columns\u001b[49m\u001b[43m,\u001b[49m\n\u001b[0;32m    242\u001b[0m \u001b[43m    \u001b[49m\u001b[43mnull_invalid_values\u001b[49m\u001b[38;5;241;43m=\u001b[39;49m\u001b[43mnull_invalid_values\u001b[49m\u001b[43m,\u001b[49m\n\u001b[0;32m    243\u001b[0m \u001b[43m\u001b[49m\u001b[43m)\u001b[49m\n\u001b[0;32m    244\u001b[0m column_descriptions \u001b[38;5;241m=\u001b[39m {\n\u001b[0;32m    245\u001b[0m     \u001b[38;5;241m*\u001b[39m\u001b[38;5;241m*\u001b[39mexisting_col_descriptions,\n\u001b[0;32m    246\u001b[0m     \u001b[38;5;241m*\u001b[39m\u001b[38;5;241m*\u001b[39m(column_descriptions \u001b[38;5;129;01mor\u001b[39;00m {}),\n\u001b[0;32m    247\u001b[0m }\n\u001b[0;32m    248\u001b[0m column_metadata \u001b[38;5;241m=\u001b[39m {\u001b[38;5;241m*\u001b[39m\u001b[38;5;241m*\u001b[39mexisting_col_metadata, \u001b[38;5;241m*\u001b[39m\u001b[38;5;241m*\u001b[39m(column_metadata \u001b[38;5;129;01mor\u001b[39;00m {})}\n",
      "File \u001b[1;32mD:\\Anaconda\\envs\\evalml2\\lib\\site-packages\\woodwork\\table_accessor.py:1802\u001b[0m, in \u001b[0;36m_infer_missing_logical_types\u001b[1;34m(dataframe, force_logical_types, existing_logical_types, ignore_columns, null_invalid_values)\u001b[0m\n\u001b[0;32m   1796\u001b[0m series \u001b[38;5;241m=\u001b[39m dataframe[name]\n\u001b[0;32m   1797\u001b[0m parsed_logical_types[name] \u001b[38;5;241m=\u001b[39m _get_column_logical_type(\n\u001b[0;32m   1798\u001b[0m     series,\n\u001b[0;32m   1799\u001b[0m     logical_type,\n\u001b[0;32m   1800\u001b[0m     name,\n\u001b[0;32m   1801\u001b[0m )\n\u001b[1;32m-> 1802\u001b[0m updated_series \u001b[38;5;241m=\u001b[39m \u001b[43mparsed_logical_types\u001b[49m\u001b[43m[\u001b[49m\u001b[43mname\u001b[49m\u001b[43m]\u001b[49m\u001b[38;5;241;43m.\u001b[39;49m\u001b[43mtransform\u001b[49m\u001b[43m(\u001b[49m\n\u001b[0;32m   1803\u001b[0m \u001b[43m    \u001b[49m\u001b[43mseries\u001b[49m\u001b[43m,\u001b[49m\n\u001b[0;32m   1804\u001b[0m \u001b[43m    \u001b[49m\u001b[43mnull_invalid_values\u001b[49m\u001b[38;5;241;43m=\u001b[39;49m\u001b[43mnull_invalid_values\u001b[49m\u001b[43m,\u001b[49m\n\u001b[0;32m   1805\u001b[0m \u001b[43m\u001b[49m\u001b[43m)\u001b[49m\n\u001b[0;32m   1806\u001b[0m \u001b[38;5;28;01mif\u001b[39;00m updated_series \u001b[38;5;129;01mis\u001b[39;00m \u001b[38;5;129;01mnot\u001b[39;00m series:\n\u001b[0;32m   1807\u001b[0m     \u001b[38;5;66;03m# NotImplementedError thrown by dask when attempting to re-initialize\u001b[39;00m\n\u001b[0;32m   1808\u001b[0m     \u001b[38;5;66;03m# data after being assigned a numeric column name\u001b[39;00m\n\u001b[0;32m   1809\u001b[0m     \u001b[38;5;28;01mtry\u001b[39;00m:\n",
      "File \u001b[1;32mD:\\Anaconda\\envs\\evalml2\\lib\\site-packages\\woodwork\\logical_types.py:442\u001b[0m, in \u001b[0;36mIntegerNullable.transform\u001b[1;34m(self, series, null_invalid_values)\u001b[0m\n\u001b[0;32m    440\u001b[0m \u001b[38;5;28;01mif\u001b[39;00m null_invalid_values:\n\u001b[0;32m    441\u001b[0m     series \u001b[38;5;241m=\u001b[39m _coerce_integer(series)\n\u001b[1;32m--> 442\u001b[0m \u001b[38;5;28;01mreturn\u001b[39;00m \u001b[38;5;28;43msuper\u001b[39;49m\u001b[43m(\u001b[49m\u001b[43m)\u001b[49m\u001b[38;5;241;43m.\u001b[39;49m\u001b[43mtransform\u001b[49m\u001b[43m(\u001b[49m\u001b[43mseries\u001b[49m\u001b[43m)\u001b[49m\n",
      "File \u001b[1;32mD:\\Anaconda\\envs\\evalml2\\lib\\site-packages\\woodwork\\logical_types.py:76\u001b[0m, in \u001b[0;36mLogicalType.transform\u001b[1;34m(self, series, null_invalid_values)\u001b[0m\n\u001b[0;32m     74\u001b[0m         series \u001b[38;5;241m=\u001b[39m series\u001b[38;5;241m.\u001b[39mastype(new_dtype)\n\u001b[0;32m     75\u001b[0m     \u001b[38;5;28;01mexcept\u001b[39;00m (\u001b[38;5;167;01mTypeError\u001b[39;00m, \u001b[38;5;167;01mValueError\u001b[39;00m):\n\u001b[1;32m---> 76\u001b[0m         \u001b[38;5;28;01mraise\u001b[39;00m TypeConversionError(series, new_dtype, \u001b[38;5;28mtype\u001b[39m(\u001b[38;5;28mself\u001b[39m))\n\u001b[0;32m     77\u001b[0m \u001b[38;5;28;01mreturn\u001b[39;00m series\n",
      "\u001b[1;31mTypeConversionError\u001b[0m: Error converting datatype for weatherVar115 from type float64 to type Int64. Please confirm the underlying data is consistent with logical type IntegerNullable."
     ]
    }
   ],
   "source": [
    "import evalml\n",
    "from evalml import AutoMLSearch\n",
    "import pandas as pd\n",
    "import numpy as np\n",
    "import warnings\n",
    "from IPython.display import display\n",
    "\n",
    "warnings.filterwarnings(\"ignore\")\n",
    "pd.set_option('display.max_columns', 500)\n",
    "\n",
    "train_data = pd.read_csv('train_liberty.csv', low_memory=False)\n",
    "test_data = pd.read_csv('test_liberty.csv', low_memory=False)\n",
    "\n",
    "# perform a search across multiple pipelines and hyperparameters\n",
    "automl = AutoMLSearch(X_train=train_data.drop(columns=['id','target']), \n",
    "                      y_train=train_data['target'], \n",
    "                      problem_type='regression',\n",
    "                      max_time=300)\n",
    "automl.search()\n",
    "\n",
    "# the best pipeline is already refitted on the entire training data\n",
    "best_pipeline = automl.best_pipeline\n",
    "print(automl.best_pipeline)\n",
    "\n",
    "preds = best_pipeline.predict(test_data.drop(columns=['id']))\n",
    "preds = pd.DataFrame(preds).rename(columns={0:'target'})\n",
    "test_data = test_data.join(preds)\n",
    "test_data[['id', 'target']].to_csv('liberty_evalml.csv', index=False)"
   ]
  },
  {
   "cell_type": "code",
   "execution_count": 11,
   "id": "2e72c9be",
   "metadata": {},
   "outputs": [
    {
     "ename": "NameError",
     "evalue": "name 'preds' is not defined",
     "output_type": "error",
     "traceback": [
      "\u001b[1;31m---------------------------------------------------------------------------\u001b[0m",
      "\u001b[1;31mNameError\u001b[0m                                 Traceback (most recent call last)",
      "Cell \u001b[1;32mIn [11], line 3\u001b[0m\n\u001b[0;32m      1\u001b[0m \u001b[38;5;28;01mdel\u001b[39;00m train_data\n\u001b[0;32m      2\u001b[0m \u001b[38;5;28;01mdel\u001b[39;00m test_data\n\u001b[1;32m----> 3\u001b[0m \u001b[38;5;28;01mdel\u001b[39;00m preds\n\u001b[0;32m      4\u001b[0m \u001b[38;5;28;01mdel\u001b[39;00m automl\n",
      "\u001b[1;31mNameError\u001b[0m: name 'preds' is not defined"
     ]
    }
   ],
   "source": [
    "del train_data\n",
    "del test_data\n",
    "del preds\n",
    "del automl"
   ]
  },
  {
   "cell_type": "markdown",
   "id": "efa53e41",
   "metadata": {},
   "source": [
    "# Loan"
   ]
  },
  {
   "cell_type": "code",
   "execution_count": 12,
   "id": "5d9c805a",
   "metadata": {},
   "outputs": [
    {
     "name": "stdout",
     "output_type": "stream",
     "text": [
      "Mean Baseline Regression Pipeline\n"
     ]
    },
    {
     "ename": "PipelineError",
     "evalue": "Input X data types are different from the input types the pipeline was fitted on.",
     "output_type": "error",
     "traceback": [
      "\u001b[1;31m---------------------------------------------------------------------------\u001b[0m",
      "\u001b[1;31mPipelineError\u001b[0m                             Traceback (most recent call last)",
      "Cell \u001b[1;32mIn [12], line 25\u001b[0m\n\u001b[0;32m     22\u001b[0m best_pipeline \u001b[38;5;241m=\u001b[39m automl\u001b[38;5;241m.\u001b[39mbest_pipeline\n\u001b[0;32m     23\u001b[0m \u001b[38;5;28mprint\u001b[39m(automl\u001b[38;5;241m.\u001b[39mbest_pipeline)\n\u001b[1;32m---> 25\u001b[0m preds \u001b[38;5;241m=\u001b[39m best_pipeline\u001b[38;5;241m.\u001b[39mpredict(test_data\u001b[38;5;241m.\u001b[39mdrop(columns\u001b[38;5;241m=\u001b[39m[\u001b[38;5;124m'\u001b[39m\u001b[38;5;124mid\u001b[39m\u001b[38;5;124m'\u001b[39m]))\n\u001b[0;32m     26\u001b[0m preds \u001b[38;5;241m=\u001b[39m pd\u001b[38;5;241m.\u001b[39mDataFrame(preds)\u001b[38;5;241m.\u001b[39mrename(columns\u001b[38;5;241m=\u001b[39m{\u001b[38;5;241m0\u001b[39m:\u001b[38;5;124m'\u001b[39m\u001b[38;5;124mloss\u001b[39m\u001b[38;5;124m'\u001b[39m})\n\u001b[0;32m     27\u001b[0m test_data \u001b[38;5;241m=\u001b[39m test_data\u001b[38;5;241m.\u001b[39mjoin(preds)\n",
      "File \u001b[1;32mD:\\Anaconda\\envs\\evalml2\\lib\\site-packages\\evalml\\pipelines\\pipeline_meta.py:33\u001b[0m, in \u001b[0;36mPipelineBaseMeta.check_for_fit.<locals>._check_for_fit\u001b[1;34m(self, *args, **kwargs)\u001b[0m\n\u001b[0;32m     28\u001b[0m \u001b[38;5;28;01mif\u001b[39;00m \u001b[38;5;129;01mnot\u001b[39;00m \u001b[38;5;28mself\u001b[39m\u001b[38;5;241m.\u001b[39m_is_fitted:\n\u001b[0;32m     29\u001b[0m     \u001b[38;5;28;01mraise\u001b[39;00m PipelineNotYetFittedError(\n\u001b[0;32m     30\u001b[0m         \u001b[38;5;124mf\u001b[39m\u001b[38;5;124m\"\u001b[39m\u001b[38;5;124mThis \u001b[39m\u001b[38;5;132;01m{\u001b[39;00mklass\u001b[38;5;132;01m}\u001b[39;00m\u001b[38;5;124m is not fitted yet. You must fit \u001b[39m\u001b[38;5;132;01m{\u001b[39;00mklass\u001b[38;5;132;01m}\u001b[39;00m\u001b[38;5;124m before calling \u001b[39m\u001b[38;5;132;01m{\u001b[39;00mmethod\u001b[38;5;241m.\u001b[39m\u001b[38;5;18m__name__\u001b[39m\u001b[38;5;132;01m}\u001b[39;00m\u001b[38;5;124m.\u001b[39m\u001b[38;5;124m\"\u001b[39m,\n\u001b[0;32m     31\u001b[0m     )\n\u001b[1;32m---> 33\u001b[0m \u001b[38;5;28;01mreturn\u001b[39;00m method(\u001b[38;5;28mself\u001b[39m, \u001b[38;5;241m*\u001b[39margs, \u001b[38;5;241m*\u001b[39m\u001b[38;5;241m*\u001b[39mkwargs)\n",
      "File \u001b[1;32mD:\\Anaconda\\envs\\evalml2\\lib\\site-packages\\evalml\\pipelines\\regression_pipeline.py:98\u001b[0m, in \u001b[0;36mRegressionPipeline.predict\u001b[1;34m(self, X, objective, X_train, y_train)\u001b[0m\n\u001b[0;32m     86\u001b[0m \u001b[38;5;124;03m\"\"\"Make predictions using selected features.\u001b[39;00m\n\u001b[0;32m     87\u001b[0m \n\u001b[0;32m     88\u001b[0m \u001b[38;5;124;03mArgs:\u001b[39;00m\n\u001b[1;32m   (...)\u001b[0m\n\u001b[0;32m     95\u001b[0m \u001b[38;5;124;03m    pd.Series: Predicted values.\u001b[39;00m\n\u001b[0;32m     96\u001b[0m \u001b[38;5;124;03m\"\"\"\u001b[39;00m\n\u001b[0;32m     97\u001b[0m X \u001b[38;5;241m=\u001b[39m infer_feature_types(X)\n\u001b[1;32m---> 98\u001b[0m predictions \u001b[38;5;241m=\u001b[39m \u001b[38;5;28;43mself\u001b[39;49m\u001b[38;5;241;43m.\u001b[39;49m\u001b[43mcomponent_graph\u001b[49m\u001b[38;5;241;43m.\u001b[39;49m\u001b[43mpredict\u001b[49m\u001b[43m(\u001b[49m\u001b[43mX\u001b[49m\u001b[43m)\u001b[49m\n\u001b[0;32m     99\u001b[0m predictions \u001b[38;5;241m=\u001b[39m \u001b[38;5;28mself\u001b[39m\u001b[38;5;241m.\u001b[39minverse_transform(predictions)\n\u001b[0;32m    100\u001b[0m predictions\u001b[38;5;241m.\u001b[39mname \u001b[38;5;241m=\u001b[39m \u001b[38;5;28mself\u001b[39m\u001b[38;5;241m.\u001b[39minput_target_name\n",
      "File \u001b[1;32mD:\\Anaconda\\envs\\evalml2\\lib\\site-packages\\evalml\\pipelines\\component_graph.py:406\u001b[0m, in \u001b[0;36mComponentGraph.predict\u001b[1;34m(self, X)\u001b[0m\n\u001b[0;32m    402\u001b[0m \u001b[38;5;28;01mif\u001b[39;00m \u001b[38;5;129;01mnot\u001b[39;00m \u001b[38;5;28misinstance\u001b[39m(final_component_instance, Estimator):\n\u001b[0;32m    403\u001b[0m     \u001b[38;5;28;01mraise\u001b[39;00m \u001b[38;5;167;01mValueError\u001b[39;00m(\n\u001b[0;32m    404\u001b[0m         \u001b[38;5;124m\"\u001b[39m\u001b[38;5;124mCannot call predict() on a component graph because the final component is not an Estimator.\u001b[39m\u001b[38;5;124m\"\u001b[39m,\n\u001b[0;32m    405\u001b[0m     )\n\u001b[1;32m--> 406\u001b[0m outputs \u001b[38;5;241m=\u001b[39m \u001b[38;5;28;43mself\u001b[39;49m\u001b[38;5;241;43m.\u001b[39;49m\u001b[43m_transform_features\u001b[49m\u001b[43m(\u001b[49m\n\u001b[0;32m    407\u001b[0m \u001b[43m    \u001b[49m\u001b[38;5;28;43mself\u001b[39;49m\u001b[38;5;241;43m.\u001b[39;49m\u001b[43mcompute_order\u001b[49m\u001b[43m,\u001b[49m\n\u001b[0;32m    408\u001b[0m \u001b[43m    \u001b[49m\u001b[43mX\u001b[49m\u001b[43m,\u001b[49m\n\u001b[0;32m    409\u001b[0m \u001b[43m    \u001b[49m\u001b[43mevaluate_training_only_components\u001b[49m\u001b[38;5;241;43m=\u001b[39;49m\u001b[38;5;28;43;01mFalse\u001b[39;49;00m\u001b[43m,\u001b[49m\n\u001b[0;32m    410\u001b[0m \u001b[43m\u001b[49m\u001b[43m)\u001b[49m\n\u001b[0;32m    411\u001b[0m \u001b[38;5;28;01mreturn\u001b[39;00m infer_feature_types(outputs\u001b[38;5;241m.\u001b[39mget(\u001b[38;5;124mf\u001b[39m\u001b[38;5;124m\"\u001b[39m\u001b[38;5;132;01m{\u001b[39;00mfinal_component\u001b[38;5;132;01m}\u001b[39;00m\u001b[38;5;124m.x\u001b[39m\u001b[38;5;124m\"\u001b[39m))\n",
      "File \u001b[1;32mD:\\Anaconda\\envs\\evalml2\\lib\\site-packages\\evalml\\pipelines\\component_graph.py:452\u001b[0m, in \u001b[0;36mComponentGraph._transform_features\u001b[1;34m(self, component_list, X, y, fit, evaluate_training_only_components)\u001b[0m\n\u001b[0;32m    446\u001b[0m     X_schema \u001b[38;5;241m=\u001b[39m (\n\u001b[0;32m    447\u001b[0m         \u001b[38;5;28mself\u001b[39m\u001b[38;5;241m.\u001b[39m_return_non_engineered_features(X)\u001b[38;5;241m.\u001b[39mww\u001b[38;5;241m.\u001b[39mschema\n\u001b[0;32m    448\u001b[0m         \u001b[38;5;28;01mif\u001b[39;00m \u001b[38;5;124m\"\u001b[39m\u001b[38;5;124mDFS Transformer\u001b[39m\u001b[38;5;124m\"\u001b[39m \u001b[38;5;129;01min\u001b[39;00m \u001b[38;5;28mself\u001b[39m\u001b[38;5;241m.\u001b[39mcompute_order\n\u001b[0;32m    449\u001b[0m         \u001b[38;5;28;01melse\u001b[39;00m X\u001b[38;5;241m.\u001b[39mww\u001b[38;5;241m.\u001b[39mschema\n\u001b[0;32m    450\u001b[0m     )\n\u001b[0;32m    451\u001b[0m     \u001b[38;5;28;01mif\u001b[39;00m \u001b[38;5;129;01mnot\u001b[39;00m _schema_is_equal(X_schema, \u001b[38;5;28mself\u001b[39m\u001b[38;5;241m.\u001b[39m_input_types):\n\u001b[1;32m--> 452\u001b[0m         \u001b[38;5;28;01mraise\u001b[39;00m PipelineError(\n\u001b[0;32m    453\u001b[0m             \u001b[38;5;124m\"\u001b[39m\u001b[38;5;124mInput X data types are different from the input types the pipeline was fitted on.\u001b[39m\u001b[38;5;124m\"\u001b[39m,\n\u001b[0;32m    454\u001b[0m             code\u001b[38;5;241m=\u001b[39mPipelineErrorCodeEnum\u001b[38;5;241m.\u001b[39mPREDICT_INPUT_SCHEMA_UNEQUAL,\n\u001b[0;32m    455\u001b[0m             details\u001b[38;5;241m=\u001b[39m{\n\u001b[0;32m    456\u001b[0m                 \u001b[38;5;124m\"\u001b[39m\u001b[38;5;124minput_features_types\u001b[39m\u001b[38;5;124m\"\u001b[39m: X_schema\u001b[38;5;241m.\u001b[39mtypes,\n\u001b[0;32m    457\u001b[0m                 \u001b[38;5;124m\"\u001b[39m\u001b[38;5;124mpipeline_features_types\u001b[39m\u001b[38;5;124m\"\u001b[39m: \u001b[38;5;28mself\u001b[39m\u001b[38;5;241m.\u001b[39m_input_types\u001b[38;5;241m.\u001b[39mtypes,\n\u001b[0;32m    458\u001b[0m             },\n\u001b[0;32m    459\u001b[0m         )\n\u001b[0;32m    460\u001b[0m \u001b[38;5;28;01melse\u001b[39;00m:\n\u001b[0;32m    461\u001b[0m     \u001b[38;5;28mself\u001b[39m\u001b[38;5;241m.\u001b[39m_input_types \u001b[38;5;241m=\u001b[39m (\n\u001b[0;32m    462\u001b[0m         \u001b[38;5;28mself\u001b[39m\u001b[38;5;241m.\u001b[39m_return_non_engineered_features(X)\u001b[38;5;241m.\u001b[39mww\u001b[38;5;241m.\u001b[39mschema\n\u001b[0;32m    463\u001b[0m         \u001b[38;5;28;01mif\u001b[39;00m \u001b[38;5;124m\"\u001b[39m\u001b[38;5;124mDFS Transformer\u001b[39m\u001b[38;5;124m\"\u001b[39m \u001b[38;5;129;01min\u001b[39;00m \u001b[38;5;28mself\u001b[39m\u001b[38;5;241m.\u001b[39mcompute_order\n\u001b[0;32m    464\u001b[0m         \u001b[38;5;28;01melse\u001b[39;00m X\u001b[38;5;241m.\u001b[39mww\u001b[38;5;241m.\u001b[39mschema\n\u001b[0;32m    465\u001b[0m     )\n",
      "\u001b[1;31mPipelineError\u001b[0m: Input X data types are different from the input types the pipeline was fitted on."
     ]
    }
   ],
   "source": [
    "import evalml\n",
    "from evalml import AutoMLSearch\n",
    "import pandas as pd\n",
    "import numpy as np\n",
    "import warnings\n",
    "from IPython.display import display\n",
    "\n",
    "warnings.filterwarnings(\"ignore\")\n",
    "pd.set_option('display.max_columns', 500)\n",
    "\n",
    "train_data = pd.read_csv('train_loan.csv', low_memory=False)\n",
    "test_data = pd.read_csv('test_loan.csv', low_memory=False)\n",
    "\n",
    "# perform a search across multiple pipelines and hyperparameters\n",
    "automl = AutoMLSearch(X_train=train_data.drop(columns=['id','loss']), \n",
    "                      y_train=train_data['loss'], \n",
    "                      problem_type='regression',\n",
    "                      max_time=300)\n",
    "automl.search()\n",
    "\n",
    "# the best pipeline is already refitted on the entire training data\n",
    "best_pipeline = automl.best_pipeline\n",
    "print(automl.best_pipeline)\n",
    "\n",
    "preds = best_pipeline.predict(test_data.drop(columns=['id']))\n",
    "preds = pd.DataFrame(preds).rename(columns={0:'loss'})\n",
    "test_data = test_data.join(preds)\n",
    "test_data[['id', 'loss']].to_csv('loan_evalml.csv', index=False)"
   ]
  },
  {
   "cell_type": "code",
   "execution_count": null,
   "id": "21344861",
   "metadata": {},
   "outputs": [],
   "source": [
    "del train_data\n",
    "del test_data\n",
    "del preds\n",
    "del automl"
   ]
  },
  {
   "cell_type": "code",
   "execution_count": 1,
   "id": "404ae1f7",
   "metadata": {},
   "outputs": [
    {
     "name": "stderr",
     "output_type": "stream",
     "text": [
      "\tHigh coefficient of variation (cv >= 0.5) within cross validation scores.\n",
      "\tElastic Net Regressor w/ Replace Nullable Types Transformer + Drop Columns Transformer + Imputer + One Hot Encoder + Standard Scaler may not perform as estimated on unseen data.\n",
      "\tHigh coefficient of variation (cv >= 0.5) within cross validation scores.\n",
      "\tElastic Net Regressor w/ Replace Nullable Types Transformer + Drop Columns Transformer + Imputer + One Hot Encoder + Standard Scaler + RF Regressor Select From Model may not perform as estimated on unseen data.\n"
     ]
    },
    {
     "name": "stdout",
     "output_type": "stream",
     "text": [
      "Random Forest Regressor w/ Replace Nullable Types Transformer + Drop Columns Transformer + Imputer + One Hot Encoder\n"
     ]
    },
    {
     "ename": "PipelineError",
     "evalue": "Input X data types are different from the input types the pipeline was fitted on.",
     "output_type": "error",
     "traceback": [
      "\u001b[1;31m---------------------------------------------------------------------------\u001b[0m",
      "\u001b[1;31mPipelineError\u001b[0m                             Traceback (most recent call last)",
      "Cell \u001b[1;32mIn [1], line 28\u001b[0m\n\u001b[0;32m     25\u001b[0m best_pipeline \u001b[38;5;241m=\u001b[39m automl\u001b[38;5;241m.\u001b[39mbest_pipeline\n\u001b[0;32m     26\u001b[0m \u001b[38;5;28mprint\u001b[39m(automl\u001b[38;5;241m.\u001b[39mbest_pipeline)\n\u001b[1;32m---> 28\u001b[0m preds \u001b[38;5;241m=\u001b[39m best_pipeline\u001b[38;5;241m.\u001b[39mpredict(test_data\u001b[38;5;241m.\u001b[39mdrop(columns\u001b[38;5;241m=\u001b[39m[\u001b[38;5;124m'\u001b[39m\u001b[38;5;124mValor dólar informal semestral\u001b[39m\u001b[38;5;124m'\u001b[39m, \u001b[38;5;124m'\u001b[39m\u001b[38;5;124midentificador\u001b[39m\u001b[38;5;124m'\u001b[39m, \u001b[38;5;124m'\u001b[39m\u001b[38;5;124mAño\u001b[39m\u001b[38;5;124m'\u001b[39m, \u001b[38;5;124m'\u001b[39m\u001b[38;5;124mSemestre\u001b[39m\u001b[38;5;124m'\u001b[39m]))\n\u001b[0;32m     29\u001b[0m preds \u001b[38;5;241m=\u001b[39m pd\u001b[38;5;241m.\u001b[39mDataFrame(preds)\u001b[38;5;241m.\u001b[39mrename(columns\u001b[38;5;241m=\u001b[39m{\u001b[38;5;241m0\u001b[39m:\u001b[38;5;124m'\u001b[39m\u001b[38;5;124mtarget\u001b[39m\u001b[38;5;124m'\u001b[39m})\n\u001b[0;32m     30\u001b[0m test_data \u001b[38;5;241m=\u001b[39m test_data\u001b[38;5;241m.\u001b[39mjoin(preds)\n",
      "File \u001b[1;32mD:\\Anaconda\\envs\\evalml2\\lib\\site-packages\\evalml\\pipelines\\pipeline_meta.py:33\u001b[0m, in \u001b[0;36mPipelineBaseMeta.check_for_fit.<locals>._check_for_fit\u001b[1;34m(self, *args, **kwargs)\u001b[0m\n\u001b[0;32m     28\u001b[0m \u001b[38;5;28;01mif\u001b[39;00m \u001b[38;5;129;01mnot\u001b[39;00m \u001b[38;5;28mself\u001b[39m\u001b[38;5;241m.\u001b[39m_is_fitted:\n\u001b[0;32m     29\u001b[0m     \u001b[38;5;28;01mraise\u001b[39;00m PipelineNotYetFittedError(\n\u001b[0;32m     30\u001b[0m         \u001b[38;5;124mf\u001b[39m\u001b[38;5;124m\"\u001b[39m\u001b[38;5;124mThis \u001b[39m\u001b[38;5;132;01m{\u001b[39;00mklass\u001b[38;5;132;01m}\u001b[39;00m\u001b[38;5;124m is not fitted yet. You must fit \u001b[39m\u001b[38;5;132;01m{\u001b[39;00mklass\u001b[38;5;132;01m}\u001b[39;00m\u001b[38;5;124m before calling \u001b[39m\u001b[38;5;132;01m{\u001b[39;00mmethod\u001b[38;5;241m.\u001b[39m\u001b[38;5;18m__name__\u001b[39m\u001b[38;5;132;01m}\u001b[39;00m\u001b[38;5;124m.\u001b[39m\u001b[38;5;124m\"\u001b[39m,\n\u001b[0;32m     31\u001b[0m     )\n\u001b[1;32m---> 33\u001b[0m \u001b[38;5;28;01mreturn\u001b[39;00m method(\u001b[38;5;28mself\u001b[39m, \u001b[38;5;241m*\u001b[39margs, \u001b[38;5;241m*\u001b[39m\u001b[38;5;241m*\u001b[39mkwargs)\n",
      "File \u001b[1;32mD:\\Anaconda\\envs\\evalml2\\lib\\site-packages\\evalml\\pipelines\\regression_pipeline.py:98\u001b[0m, in \u001b[0;36mRegressionPipeline.predict\u001b[1;34m(self, X, objective, X_train, y_train)\u001b[0m\n\u001b[0;32m     86\u001b[0m \u001b[38;5;124;03m\"\"\"Make predictions using selected features.\u001b[39;00m\n\u001b[0;32m     87\u001b[0m \n\u001b[0;32m     88\u001b[0m \u001b[38;5;124;03mArgs:\u001b[39;00m\n\u001b[1;32m   (...)\u001b[0m\n\u001b[0;32m     95\u001b[0m \u001b[38;5;124;03m    pd.Series: Predicted values.\u001b[39;00m\n\u001b[0;32m     96\u001b[0m \u001b[38;5;124;03m\"\"\"\u001b[39;00m\n\u001b[0;32m     97\u001b[0m X \u001b[38;5;241m=\u001b[39m infer_feature_types(X)\n\u001b[1;32m---> 98\u001b[0m predictions \u001b[38;5;241m=\u001b[39m \u001b[38;5;28;43mself\u001b[39;49m\u001b[38;5;241;43m.\u001b[39;49m\u001b[43mcomponent_graph\u001b[49m\u001b[38;5;241;43m.\u001b[39;49m\u001b[43mpredict\u001b[49m\u001b[43m(\u001b[49m\u001b[43mX\u001b[49m\u001b[43m)\u001b[49m\n\u001b[0;32m     99\u001b[0m predictions \u001b[38;5;241m=\u001b[39m \u001b[38;5;28mself\u001b[39m\u001b[38;5;241m.\u001b[39minverse_transform(predictions)\n\u001b[0;32m    100\u001b[0m predictions\u001b[38;5;241m.\u001b[39mname \u001b[38;5;241m=\u001b[39m \u001b[38;5;28mself\u001b[39m\u001b[38;5;241m.\u001b[39minput_target_name\n",
      "File \u001b[1;32mD:\\Anaconda\\envs\\evalml2\\lib\\site-packages\\evalml\\pipelines\\component_graph.py:406\u001b[0m, in \u001b[0;36mComponentGraph.predict\u001b[1;34m(self, X)\u001b[0m\n\u001b[0;32m    402\u001b[0m \u001b[38;5;28;01mif\u001b[39;00m \u001b[38;5;129;01mnot\u001b[39;00m \u001b[38;5;28misinstance\u001b[39m(final_component_instance, Estimator):\n\u001b[0;32m    403\u001b[0m     \u001b[38;5;28;01mraise\u001b[39;00m \u001b[38;5;167;01mValueError\u001b[39;00m(\n\u001b[0;32m    404\u001b[0m         \u001b[38;5;124m\"\u001b[39m\u001b[38;5;124mCannot call predict() on a component graph because the final component is not an Estimator.\u001b[39m\u001b[38;5;124m\"\u001b[39m,\n\u001b[0;32m    405\u001b[0m     )\n\u001b[1;32m--> 406\u001b[0m outputs \u001b[38;5;241m=\u001b[39m \u001b[38;5;28;43mself\u001b[39;49m\u001b[38;5;241;43m.\u001b[39;49m\u001b[43m_transform_features\u001b[49m\u001b[43m(\u001b[49m\n\u001b[0;32m    407\u001b[0m \u001b[43m    \u001b[49m\u001b[38;5;28;43mself\u001b[39;49m\u001b[38;5;241;43m.\u001b[39;49m\u001b[43mcompute_order\u001b[49m\u001b[43m,\u001b[49m\n\u001b[0;32m    408\u001b[0m \u001b[43m    \u001b[49m\u001b[43mX\u001b[49m\u001b[43m,\u001b[49m\n\u001b[0;32m    409\u001b[0m \u001b[43m    \u001b[49m\u001b[43mevaluate_training_only_components\u001b[49m\u001b[38;5;241;43m=\u001b[39;49m\u001b[38;5;28;43;01mFalse\u001b[39;49;00m\u001b[43m,\u001b[49m\n\u001b[0;32m    410\u001b[0m \u001b[43m\u001b[49m\u001b[43m)\u001b[49m\n\u001b[0;32m    411\u001b[0m \u001b[38;5;28;01mreturn\u001b[39;00m infer_feature_types(outputs\u001b[38;5;241m.\u001b[39mget(\u001b[38;5;124mf\u001b[39m\u001b[38;5;124m\"\u001b[39m\u001b[38;5;132;01m{\u001b[39;00mfinal_component\u001b[38;5;132;01m}\u001b[39;00m\u001b[38;5;124m.x\u001b[39m\u001b[38;5;124m\"\u001b[39m))\n",
      "File \u001b[1;32mD:\\Anaconda\\envs\\evalml2\\lib\\site-packages\\evalml\\pipelines\\component_graph.py:452\u001b[0m, in \u001b[0;36mComponentGraph._transform_features\u001b[1;34m(self, component_list, X, y, fit, evaluate_training_only_components)\u001b[0m\n\u001b[0;32m    446\u001b[0m     X_schema \u001b[38;5;241m=\u001b[39m (\n\u001b[0;32m    447\u001b[0m         \u001b[38;5;28mself\u001b[39m\u001b[38;5;241m.\u001b[39m_return_non_engineered_features(X)\u001b[38;5;241m.\u001b[39mww\u001b[38;5;241m.\u001b[39mschema\n\u001b[0;32m    448\u001b[0m         \u001b[38;5;28;01mif\u001b[39;00m \u001b[38;5;124m\"\u001b[39m\u001b[38;5;124mDFS Transformer\u001b[39m\u001b[38;5;124m\"\u001b[39m \u001b[38;5;129;01min\u001b[39;00m \u001b[38;5;28mself\u001b[39m\u001b[38;5;241m.\u001b[39mcompute_order\n\u001b[0;32m    449\u001b[0m         \u001b[38;5;28;01melse\u001b[39;00m X\u001b[38;5;241m.\u001b[39mww\u001b[38;5;241m.\u001b[39mschema\n\u001b[0;32m    450\u001b[0m     )\n\u001b[0;32m    451\u001b[0m     \u001b[38;5;28;01mif\u001b[39;00m \u001b[38;5;129;01mnot\u001b[39;00m _schema_is_equal(X_schema, \u001b[38;5;28mself\u001b[39m\u001b[38;5;241m.\u001b[39m_input_types):\n\u001b[1;32m--> 452\u001b[0m         \u001b[38;5;28;01mraise\u001b[39;00m PipelineError(\n\u001b[0;32m    453\u001b[0m             \u001b[38;5;124m\"\u001b[39m\u001b[38;5;124mInput X data types are different from the input types the pipeline was fitted on.\u001b[39m\u001b[38;5;124m\"\u001b[39m,\n\u001b[0;32m    454\u001b[0m             code\u001b[38;5;241m=\u001b[39mPipelineErrorCodeEnum\u001b[38;5;241m.\u001b[39mPREDICT_INPUT_SCHEMA_UNEQUAL,\n\u001b[0;32m    455\u001b[0m             details\u001b[38;5;241m=\u001b[39m{\n\u001b[0;32m    456\u001b[0m                 \u001b[38;5;124m\"\u001b[39m\u001b[38;5;124minput_features_types\u001b[39m\u001b[38;5;124m\"\u001b[39m: X_schema\u001b[38;5;241m.\u001b[39mtypes,\n\u001b[0;32m    457\u001b[0m                 \u001b[38;5;124m\"\u001b[39m\u001b[38;5;124mpipeline_features_types\u001b[39m\u001b[38;5;124m\"\u001b[39m: \u001b[38;5;28mself\u001b[39m\u001b[38;5;241m.\u001b[39m_input_types\u001b[38;5;241m.\u001b[39mtypes,\n\u001b[0;32m    458\u001b[0m             },\n\u001b[0;32m    459\u001b[0m         )\n\u001b[0;32m    460\u001b[0m \u001b[38;5;28;01melse\u001b[39;00m:\n\u001b[0;32m    461\u001b[0m     \u001b[38;5;28mself\u001b[39m\u001b[38;5;241m.\u001b[39m_input_types \u001b[38;5;241m=\u001b[39m (\n\u001b[0;32m    462\u001b[0m         \u001b[38;5;28mself\u001b[39m\u001b[38;5;241m.\u001b[39m_return_non_engineered_features(X)\u001b[38;5;241m.\u001b[39mww\u001b[38;5;241m.\u001b[39mschema\n\u001b[0;32m    463\u001b[0m         \u001b[38;5;28;01mif\u001b[39;00m \u001b[38;5;124m\"\u001b[39m\u001b[38;5;124mDFS Transformer\u001b[39m\u001b[38;5;124m\"\u001b[39m \u001b[38;5;129;01min\u001b[39;00m \u001b[38;5;28mself\u001b[39m\u001b[38;5;241m.\u001b[39mcompute_order\n\u001b[0;32m    464\u001b[0m         \u001b[38;5;28;01melse\u001b[39;00m X\u001b[38;5;241m.\u001b[39mww\u001b[38;5;241m.\u001b[39mschema\n\u001b[0;32m    465\u001b[0m     )\n",
      "\u001b[1;31mPipelineError\u001b[0m: Input X data types are different from the input types the pipeline was fitted on."
     ]
    }
   ],
   "source": [
    "import evalml\n",
    "from evalml import AutoMLSearch\n",
    "import pandas as pd\n",
    "import numpy as np\n",
    "import warnings\n",
    "from IPython.display import display\n",
    "\n",
    "warnings.filterwarnings(\"ignore\")\n",
    "pd.set_option('display.max_columns', 500)\n",
    "\n",
    "col_to_drop = ['Valor dólar informal semestral', 'identificador', 'Año', 'Semestre', 'target']\n",
    "\n",
    "train_data = pd.read_csv('train_data.csv', low_memory=False)\n",
    "train_data['target'] = train_data['Valor dólar informal semestral']*train_data['Salario mensual (en tu moneda local)']\n",
    "test_data = pd.read_csv('features.csv', low_memory=False)\n",
    "\n",
    "# perform a search across multiple pipelines and hyperparameters\n",
    "automl = AutoMLSearch(X_train=train_data.drop(columns=['Valor dólar informal semestral', 'identificador', 'Año', 'Semestre', 'target']), \n",
    "                      y_train=train_data['target'], \n",
    "                      problem_type='regression',\n",
    "                      max_time=300)\n",
    "automl.search()\n",
    "\n",
    "# the best pipeline is already refitted on the entire training data\n",
    "best_pipeline = automl.best_pipeline\n",
    "print(automl.best_pipeline)\n",
    "\n",
    "preds = best_pipeline.predict(test_data.drop(columns=['Valor dólar informal semestral', 'identificador', 'Año', 'Semestre']))\n",
    "preds = pd.DataFrame(preds).rename(columns={0:'target'})\n",
    "test_data = test_data.join(preds)\n",
    "test_data[['identificador', 'target']].to_csv('rga_evalml.csv', index=False)"
   ]
  },
  {
   "cell_type": "code",
   "execution_count": null,
   "id": "d841b4a8",
   "metadata": {},
   "outputs": [],
   "source": []
  }
 ],
 "metadata": {
  "kernelspec": {
   "display_name": "EvalML AutoML",
   "language": "python",
   "name": "evalml2"
  },
  "language_info": {
   "codemirror_mode": {
    "name": "ipython",
    "version": 3
   },
   "file_extension": ".py",
   "mimetype": "text/x-python",
   "name": "python",
   "nbconvert_exporter": "python",
   "pygments_lexer": "ipython3",
   "version": "3.10.6"
  }
 },
 "nbformat": 4,
 "nbformat_minor": 5
}
